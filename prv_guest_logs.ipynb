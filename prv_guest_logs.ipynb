{
 "cells": [
  {
   "cell_type": "code",
   "execution_count": 71,
   "metadata": {},
   "outputs": [],
   "source": [
    "import pandas as pd\n",
    "import numpy as np\n",
    "import re"
   ]
  },
  {
   "cell_type": "code",
   "execution_count": 112,
   "metadata": {},
   "outputs": [],
   "source": [
    "guest = pd.read_csv(\"guest_logs.csv\",skiprows=4)\n",
    "guest.columns = [\"trans_id\",\"timestamp\",\"name\",\"item\",\"item_group\",\"status\",\"quantity\",\"subtotal\",\"discount\",\"tax\",\"total\",\"paid\",\"refund\",\"balance\",\"acn\",\"sys_id\"]"
   ]
  },
  {
   "cell_type": "code",
   "execution_count": 73,
   "metadata": {},
   "outputs": [
    {
     "data": {
      "text/html": [
       "<div>\n",
       "<style scoped>\n",
       "    .dataframe tbody tr th:only-of-type {\n",
       "        vertical-align: middle;\n",
       "    }\n",
       "\n",
       "    .dataframe tbody tr th {\n",
       "        vertical-align: top;\n",
       "    }\n",
       "\n",
       "    .dataframe thead th {\n",
       "        text-align: right;\n",
       "    }\n",
       "</style>\n",
       "<table border=\"1\" class=\"dataframe\">\n",
       "  <thead>\n",
       "    <tr style=\"text-align: right;\">\n",
       "      <th></th>\n",
       "      <th>Transaction #</th>\n",
       "      <th>Date &amp; Time</th>\n",
       "      <th>User Name</th>\n",
       "      <th>Description</th>\n",
       "      <th>Accounting Group</th>\n",
       "      <th>Status</th>\n",
       "      <th>Quantity</th>\n",
       "      <th>Subtotal</th>\n",
       "      <th>Discount</th>\n",
       "      <th>Tax</th>\n",
       "      <th>Total</th>\n",
       "      <th>Paid</th>\n",
       "      <th>Reversed/Refunded</th>\n",
       "      <th>Balance</th>\n",
       "      <th>Access Card Number</th>\n",
       "      <th>System ID</th>\n",
       "    </tr>\n",
       "  </thead>\n",
       "  <tbody>\n",
       "    <tr>\n",
       "      <th>0</th>\n",
       "      <td>201066</td>\n",
       "      <td>03/29/2019 08:42pm</td>\n",
       "      <td>Lara Cornell</td>\n",
       "      <td>24 Hours of Tennis Ping Pong</td>\n",
       "      <td>24 Hour Charity Event</td>\n",
       "      <td>Paid</td>\n",
       "      <td>2.0</td>\n",
       "      <td>$20.00</td>\n",
       "      <td>$0.00</td>\n",
       "      <td>$0.00</td>\n",
       "      <td>$20.00</td>\n",
       "      <td>$20.00</td>\n",
       "      <td>$0.00</td>\n",
       "      <td>$0.00</td>\n",
       "      <td>NaN</td>\n",
       "      <td>4283</td>\n",
       "    </tr>\n",
       "    <tr>\n",
       "      <th>1</th>\n",
       "      <td>152150</td>\n",
       "      <td>04/17/2018 06:26pm</td>\n",
       "      <td>Melanie Bishop</td>\n",
       "      <td>Kick Off Clinic</td>\n",
       "      <td>24 Hour Charity Event</td>\n",
       "      <td>Paid</td>\n",
       "      <td>1.0</td>\n",
       "      <td>$25.00</td>\n",
       "      <td>$0.00</td>\n",
       "      <td>$0.00</td>\n",
       "      <td>$25.00</td>\n",
       "      <td>$25.00</td>\n",
       "      <td>$0.00</td>\n",
       "      <td>$0.00</td>\n",
       "      <td>NaN</td>\n",
       "      <td>1656</td>\n",
       "    </tr>\n",
       "    <tr>\n",
       "      <th>2</th>\n",
       "      <td>198364</td>\n",
       "      <td>03/11/2019 10:48am</td>\n",
       "      <td>Frost Bank</td>\n",
       "      <td>Frost Bank- 24 Hours of Tennis Community Sponsor</td>\n",
       "      <td>24 Hour- Sponsorship</td>\n",
       "      <td>Paid</td>\n",
       "      <td>1.0</td>\n",
       "      <td>$500.00</td>\n",
       "      <td>$0.00</td>\n",
       "      <td>$0.00</td>\n",
       "      <td>$500.00</td>\n",
       "      <td>$500.00</td>\n",
       "      <td>$0.00</td>\n",
       "      <td>$0.00</td>\n",
       "      <td>NaN</td>\n",
       "      <td>1864</td>\n",
       "    </tr>\n",
       "    <tr>\n",
       "      <th>3</th>\n",
       "      <td>204816</td>\n",
       "      <td>04/22/2019 11:06am</td>\n",
       "      <td>Lisa Munekawa</td>\n",
       "      <td>JNCC HAT</td>\n",
       "      <td>Accessories</td>\n",
       "      <td>Paid</td>\n",
       "      <td>1.0</td>\n",
       "      <td>$17.00</td>\n",
       "      <td>$0.00</td>\n",
       "      <td>$1.40</td>\n",
       "      <td>$18.40</td>\n",
       "      <td>$18.40</td>\n",
       "      <td>$0.00</td>\n",
       "      <td>$0.00</td>\n",
       "      <td>NaN</td>\n",
       "      <td>4629</td>\n",
       "    </tr>\n",
       "    <tr>\n",
       "      <th>4</th>\n",
       "      <td>16014</td>\n",
       "      <td>03/11/2015 06:29pm</td>\n",
       "      <td>Jennifer Growcock</td>\n",
       "      <td>Pro Overgrip</td>\n",
       "      <td>Accessories</td>\n",
       "      <td>Paid</td>\n",
       "      <td>1.0</td>\n",
       "      <td>$8.00</td>\n",
       "      <td>$0.00</td>\n",
       "      <td>$0.66</td>\n",
       "      <td>$8.66</td>\n",
       "      <td>$8.66</td>\n",
       "      <td>$0.00</td>\n",
       "      <td>$0.00</td>\n",
       "      <td>NaN</td>\n",
       "      <td>1317</td>\n",
       "    </tr>\n",
       "  </tbody>\n",
       "</table>\n",
       "</div>"
      ],
      "text/plain": [
       "   Transaction #         Date & Time          User Name  \\\n",
       "0         201066  03/29/2019 08:42pm       Lara Cornell   \n",
       "1         152150  04/17/2018 06:26pm     Melanie Bishop   \n",
       "2         198364  03/11/2019 10:48am         Frost Bank   \n",
       "3         204816  04/22/2019 11:06am      Lisa Munekawa   \n",
       "4          16014  03/11/2015 06:29pm  Jennifer Growcock   \n",
       "\n",
       "                                        Description       Accounting Group  \\\n",
       "0                      24 Hours of Tennis Ping Pong  24 Hour Charity Event   \n",
       "1                                  Kick Off Clinic   24 Hour Charity Event   \n",
       "2  Frost Bank- 24 Hours of Tennis Community Sponsor   24 Hour- Sponsorship   \n",
       "3                                          JNCC HAT            Accessories   \n",
       "4                                      Pro Overgrip            Accessories   \n",
       "\n",
       "  Status  Quantity  Subtotal Discount     Tax     Total      Paid  \\\n",
       "0   Paid       2.0   $20.00    $0.00   $0.00    $20.00    $20.00    \n",
       "1   Paid       1.0   $25.00    $0.00   $0.00    $25.00    $25.00    \n",
       "2   Paid       1.0  $500.00    $0.00   $0.00   $500.00   $500.00    \n",
       "3   Paid       1.0   $17.00    $0.00   $1.40    $18.40    $18.40    \n",
       "4   Paid       1.0    $8.00    $0.00   $0.66     $8.66     $8.66    \n",
       "\n",
       "  Reversed/Refunded Balance  Access Card Number  System ID  \n",
       "0            $0.00   $0.00                  NaN       4283  \n",
       "1            $0.00   $0.00                  NaN       1656  \n",
       "2            $0.00   $0.00                  NaN       1864  \n",
       "3            $0.00   $0.00                  NaN       4629  \n",
       "4            $0.00   $0.00                  NaN       1317  "
      ]
     },
     "execution_count": 73,
     "metadata": {},
     "output_type": "execute_result"
    }
   ],
   "source": [
    "guest.head()"
   ]
  },
  {
   "cell_type": "markdown",
   "metadata": {},
   "source": [
    "Rename columns"
   ]
  },
  {
   "cell_type": "code",
   "execution_count": 74,
   "metadata": {},
   "outputs": [],
   "source": [
    "guest.columns = [\"trans_id\",\"timestamp\",\"name\",\"item\",\"item_group\",\"status\",\"quantity\",\"subtotal\",\"discount\",\"tax\",\"total\",\"paid\",\"refund\",\"balance\",\"acn\",\"sys_id\"]"
   ]
  },
  {
   "cell_type": "markdown",
   "metadata": {},
   "source": [
    "Fix data types:  \n",
    "Float:\n",
    " - subtotal\n",
    " - total\n",
    " - paid\n",
    " - refund\n",
    " - balance\n",
    "  \n",
    "Datetime:\n",
    " - timestamp"
   ]
  },
  {
   "cell_type": "code",
   "execution_count": 97,
   "metadata": {},
   "outputs": [
    {
     "data": {
      "text/plain": [
       "'$2,000.45'"
      ]
     },
     "execution_count": 97,
     "metadata": {},
     "output_type": "execute_result"
    }
   ],
   "source": [
    "text = \"$2,000.45\""
   ]
  },
  {
   "cell_type": "code",
   "execution_count": 104,
   "metadata": {},
   "outputs": [],
   "source": [
    "list_text = re.findall(r\"(\\d*)?,(\\d+\\.\\d+)\",text)"
   ]
  },
  {
   "cell_type": "code",
   "execution_count": 153,
   "metadata": {},
   "outputs": [],
   "source": [
    "guest = pd.read_csv(\"guest_logs.csv\",skiprows=4)\n",
    "guest.columns = [\"trans_id\",\"timestamp\",\"name\",\"item\",\"item_group\",\"status\",\"quantity\",\"subtotal\",\"discount\",\"tax\",\"total\",\"paid\",\"refund\",\"balance\",\"acn\",\"sys_id\"]"
   ]
  },
  {
   "cell_type": "code",
   "execution_count": 155,
   "metadata": {},
   "outputs": [],
   "source": [
    "guest.subtotal = guest.subtotal.str.replace(r\"$\",\"\").str.replace(r\",\",\"\").astype(\"float\")"
   ]
  },
  {
   "cell_type": "code",
   "execution_count": 152,
   "metadata": {},
   "outputs": [
    {
     "data": {
      "text/plain": [
       "0     20.00 \n",
       "1     25.00 \n",
       "2    500.00 \n",
       "3     17.00 \n",
       "4      8.00 \n",
       "Name: subtotal, dtype: object"
      ]
     },
     "execution_count": 152,
     "metadata": {},
     "output_type": "execute_result"
    }
   ],
   "source": [
    "guest.subtotal.head()"
   ]
  },
  {
   "cell_type": "code",
   "execution_count": 20,
   "metadata": {},
   "outputs": [
    {
     "name": "stdout",
     "output_type": "stream",
     "text": [
      "<class 'pandas.core.frame.DataFrame'>\n",
      "RangeIndex: 6386 entries, 0 to 6385\n",
      "Data columns (total 16 columns):\n",
      "trans_id      6386 non-null int64\n",
      "timestamp     6386 non-null object\n",
      "name          6386 non-null object\n",
      "item          6386 non-null object\n",
      "item_group    6386 non-null object\n",
      "status        6385 non-null object\n",
      "quantity      6386 non-null float64\n",
      "subtotal      6386 non-null object\n",
      "discount      6386 non-null object\n",
      "tax           6386 non-null object\n",
      "total         6386 non-null object\n",
      "paid          6386 non-null object\n",
      "refund        6386 non-null object\n",
      "balance       6386 non-null object\n",
      "acn           1288 non-null float64\n",
      "sys_id        6386 non-null int64\n",
      "dtypes: float64(2), int64(2), object(12)\n",
      "memory usage: 798.3+ KB\n"
     ]
    }
   ],
   "source": [
    "guest.info()"
   ]
  },
  {
   "cell_type": "code",
   "execution_count": null,
   "metadata": {},
   "outputs": [],
   "source": []
  }
 ],
 "metadata": {
  "kernelspec": {
   "display_name": "Python 3",
   "language": "python",
   "name": "python3"
  },
  "language_info": {
   "codemirror_mode": {
    "name": "ipython",
    "version": 3
   },
   "file_extension": ".py",
   "mimetype": "text/x-python",
   "name": "python",
   "nbconvert_exporter": "python",
   "pygments_lexer": "ipython3",
   "version": "3.7.3"
  }
 },
 "nbformat": 4,
 "nbformat_minor": 2
}
