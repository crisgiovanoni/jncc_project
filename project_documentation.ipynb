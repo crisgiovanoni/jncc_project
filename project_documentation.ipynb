{
 "cells": [
  {
   "cell_type": "code",
   "execution_count": null,
   "metadata": {
    "hideCode": false,
    "hidePrompt": false
   },
   "outputs": [],
   "source": [
    "import pandas as pd\n",
    "import numpy as np\n",
    "import statsmodels.api as sm\n",
    "from scipy import stats\n",
    "\n",
    "import matplotlib.pyplot as plt\n",
    "import matplotlib.artist as art\n",
    "import seaborn as sns\n",
    "#seaborn styling\n",
    "sns.set(style=\"whitegrid\")\n",
    "import plotly.offline as pyo\n",
    "import plotly.express as px\n",
    "pyo.init_notebook_mode()\n",
    "\n",
    "from sklearn.preprocessing import StandardScaler, RobustScaler, MinMaxScaler\n",
    "\n",
    "import statsmodels.api as sm\n",
    "\n",
    "import warnings\n",
    "warnings.filterwarnings(\"ignore\")"
   ]
  },
  {
   "cell_type": "code",
   "execution_count": null,
   "metadata": {
    "hideCode": false,
    "hidePrompt": false
   },
   "outputs": [],
   "source": [
    "#acquire and clean data further\n",
    "df = pd.read_csv(\"main_df.csv\",low_memory=False)\n",
    "df.category = np.where(df.item_group==\"Court Time\", \"Admin\",df.category)\n",
    "df = df[df.category!=\"Program\"]\n",
    "\n",
    "#convert to timestamp\n",
    "dft = df.copy()\n",
    "dft.timestamp = pd.to_datetime(dft.timestamp)\n",
    "dft.set_index(\"timestamp\", inplace=True)\n",
    "\n",
    "dft[\"day\"] = dft.index.strftime(\"%w %a\")\n",
    "dft[\"year\"] = dft.index.strftime(\"%Y\")\n",
    "dft[\"month\"] = dft.index.strftime(\"%m %B\")"
   ]
  },
  {
   "cell_type": "code",
   "execution_count": null,
   "metadata": {
    "hideCode": false,
    "hidePrompt": false
   },
   "outputs": [],
   "source": [
    "#items\n",
    "admin_items = list(df[df.category==\"Admin\"].item_group.unique())\n",
    "bar_items = list(df[df.category==\"Bar\"].item_group.unique())\n",
    "tennis_items = list(df[df.category==\"Tennis\"].item_group.unique())\n",
    "fitness_items = list(df[df.category==\"Fitness\"].item_group.unique())\n",
    "ps_items = list(df[df.category==\"Pro Shop\"].item_group.unique())\n",
    "event_items = list(df[df.category==\"Event\"].item_group.unique())"
   ]
  },
  {
   "cell_type": "markdown",
   "metadata": {
    "hideCode": false,
    "hidePrompt": false
   },
   "source": [
    "## How to properly evaluate the data\n",
    "\n",
    "1. Data was generated exclusively from Club Automation POS system. Because JNCC uses other POS system, the insights should not be assumed to mirror JNCC's revenue. However because the size of data is relatively large, the **trends and patterns likely reflect actual movements**.\n",
    "  \n",
    "  \n",
    "2. Product category **Program** was excluded because payments are moved to RegFox, which is another POS system. Program category includes historical sales from the following:\n",
    "     - Swim Lessons\n",
    "     - Camp\n",
    "     - Swim Camp\n",
    "     - Kid Fit\n",
    "     - Teen Performance Camp\n",
    "\n",
    "\n",
    "3. The product categories and items included in the data are deliberately chosen to help forecast items that are currently offered by JNCC. An example of items removed from the analysis is Soccer club sales, which was previously in the Club Automation POS but had been moved to another POS system, separate from JNCC. Below is the list of item groups per product category.\n"
   ]
  },
  {
   "cell_type": "code",
   "execution_count": null,
   "metadata": {
    "hideCode": false,
    "hidePrompt": false
   },
   "outputs": [],
   "source": [
    "pd.DataFrame(data=[admin_items,bar_items,tennis_items,fitness_items,ps_items,event_items],index=[\"Admin\",\"Bar\",\"Tennis\",\"Fitness\",\"Pro Shop\",\"Events\"]).fillna(\"\").T"
   ]
  },
  {
   "cell_type": "markdown",
   "metadata": {
    "hideCode": false,
    "hidePrompt": false
   },
   "source": [
    "## Outline\n",
    "\n",
    "- I. Product Categories  \n",
    " - A. Trends & Seasonality\n",
    "    1. Revenue and engagement as distinct KPIs\n",
    "    2. Product categories and their corresponding trend\n",
    "    3. Seasonalities in product categories\n",
    "  - B. Forecasts\n",
    "    1. Model Performance\n",
    "    2. How to use 2020 Forecast Report"
   ]
  },
  {
   "cell_type": "markdown",
   "metadata": {
    "hideCode": false,
    "hidePrompt": false
   },
   "source": [
    "---"
   ]
  },
  {
   "cell_type": "markdown",
   "metadata": {
    "hideCode": false,
    "hidePrompt": false
   },
   "source": [
    "## A. Trends & Seasonality"
   ]
  },
  {
   "cell_type": "markdown",
   "metadata": {
    "hideCode": false,
    "hidePrompt": false
   },
   "source": [
    "### 1. Summary of Year-end Revenue"
   ]
  },
  {
   "cell_type": "code",
   "execution_count": null,
   "metadata": {
    "hideCode": false,
    "hidePrompt": false
   },
   "outputs": [],
   "source": [
    "yearend_revenue = round(dft.pivot_table(values=\"total\",columns=\"category\",index=\"year\",aggfunc=sum,margins=True),2)\n",
    "yearend_revenue"
   ]
  },
  {
   "cell_type": "markdown",
   "metadata": {
    "hideCode": false,
    "hidePrompt": false
   },
   "source": [
    "### 2. Summary of Year-end Engagement"
   ]
  },
  {
   "cell_type": "code",
   "execution_count": null,
   "metadata": {
    "hideCode": false,
    "hidePrompt": false
   },
   "outputs": [],
   "source": [
    "yearend_engagement = round(dft.pivot_table(values=\"trans_id\",columns=\"category\",index=\"year\",aggfunc=\"count\",margins=True),2)\n",
    "yearend_engagement"
   ]
  },
  {
   "cell_type": "code",
   "execution_count": null,
   "metadata": {},
   "outputs": [],
   "source": [
    "to = dft[dft.category == \"Tennis\"]"
   ]
  },
  {
   "cell_type": "code",
   "execution_count": null,
   "metadata": {},
   "outputs": [],
   "source": [
    "to.shape"
   ]
  },
  {
   "cell_type": "code",
   "execution_count": null,
   "metadata": {},
   "outputs": [],
   "source": [
    "to_summary = to.groupby(\"year\").agg({\"total\":\"sum\",\"trans_id\":\"count\"}).rename(columns={\"total\":\"revenue\",\"trans_id\":\"engagement\"})"
   ]
  },
  {
   "cell_type": "code",
   "execution_count": null,
   "metadata": {},
   "outputs": [],
   "source": [
    "to_summary"
   ]
  },
  {
   "cell_type": "code",
   "execution_count": null,
   "metadata": {
    "hideCode": false,
    "hidePrompt": false
   },
   "outputs": [],
   "source": [
    "rev_eng = dft.groupby([\"category\"]).resample(\"6M\").agg({\"total\":sum,\"trans_id\":\"count\"}).reset_index().rename(columns={\"total\":\"dollar_value\",\"trans_id\":\"frequency\"})"
   ]
  },
  {
   "cell_type": "code",
   "execution_count": null,
   "metadata": {
    "hideCode": false,
    "hidePrompt": false
   },
   "outputs": [],
   "source": [
    "rev_eng[\"dollar_value_scaled\"] = MinMaxScaler().fit_transform(rev_eng[[\"dollar_value\",\"frequency\"]])[:,0]\n",
    "rev_eng[\"frequency_scaled\"] = MinMaxScaler().fit_transform(rev_eng[[\"dollar_value\",\"frequency\"]])[:,1]"
   ]
  },
  {
   "cell_type": "code",
   "execution_count": null,
   "metadata": {
    "hideCode": false,
    "hidePrompt": false
   },
   "outputs": [],
   "source": [
    "rev_eng.timestamp = rev_eng.timestamp.dt.strftime(\"%b-%y\")\n",
    "rev_eng.set_index(\"timestamp\",inplace=True)"
   ]
  },
  {
   "cell_type": "code",
   "execution_count": null,
   "metadata": {
    "hideCode": false,
    "hidePrompt": false
   },
   "outputs": [],
   "source": [
    "def plot_axis(ax,cat,df,s1,s2,c1=\"steelblue\",c2=\"tomato\",xmax=11,lw=1):\n",
    "    ax.plot(df[s1][df[\"category\"]==cat],color=c1,lw=lw,label=\"revenue\")\n",
    "    ax.plot(df[s2][df[\"category\"]==cat],color=c2,lw=lw,label=\"engagement\")\n",
    "    ax.get_yaxis().set_visible(False)\n",
    "    ax.set_title(cat)\n",
    "#     ax.hlines(y=0,xmin=0,xmax=xmax,ls=\":\",color=\"black\")"
   ]
  },
  {
   "cell_type": "code",
   "execution_count": null,
   "metadata": {
    "hideCode": false,
    "hidePrompt": false
   },
   "outputs": [],
   "source": [
    "fig = plt.figure(figsize=(16,10))\n",
    "fig.suptitle(\"What Do Trends in Revenue and Engagement Look Like?\")\n",
    "\n",
    "ax1 = fig.add_subplot(321,frameon=False)\n",
    "ax2 = fig.add_subplot(322,frameon=False)\n",
    "ax3 = fig.add_subplot(323,frameon=False)\n",
    "ax4 = fig.add_subplot(324,frameon=False)\n",
    "ax5 = fig.add_subplot(325,frameon=False)\n",
    "ax6 = fig.add_subplot(326,frameon=False)\n",
    "\n",
    "plt.subplots_adjust(left=None, bottom=None, right=None, top=0.9, wspace=None, hspace=None)\n",
    "\n",
    "plot_axis(ax1,\"Admin\",rev_eng,\"dollar_value_scaled\",\"frequency_scaled\",xmax=10)\n",
    "sub1 = plot_axis(ax2,\"Bar\",rev_eng,\"dollar_value_scaled\",\"frequency_scaled\",xmax=10,lw=3)\n",
    "plot_axis(ax3,\"Tennis\",rev_eng,\"dollar_value_scaled\",\"frequency_scaled\",xmax=10)\n",
    "plot_axis(ax4,\"Fitness\",rev_eng,\"dollar_value_scaled\",\"frequency_scaled\",xmax=10)\n",
    "plot_axis(ax5,\"Event\",rev_eng,\"dollar_value_scaled\",\"frequency_scaled\",xmax=10)\n",
    "sub3 = plot_axis(ax6,\"Pro Shop\",rev_eng,\"dollar_value_scaled\",\"frequency_scaled\",xmax=10,lw=3)\n",
    "\n",
    "fig.legend([sub1],labels=[\"revenue\",\"engagement\"],loc='upper center', ncol=2, borderaxespad=2.5, frameon=False)\n",
    "plt.subplots_adjust(hspace=0.4)\n",
    "plt.show()"
   ]
  },
  {
   "cell_type": "markdown",
   "metadata": {
    "hideCode": false,
    "hidePrompt": false
   },
   "source": [
    "What: **Scaled representation of Revenue and Engagement**\n",
    " - If the engagement and revenue are proportionate to each other, the red line (engagement) sits just below the blue line (revenue) and follows roughly the same movement.  \n",
    "  \n",
    "So What: **Revenue and Engagement in Bar is oppositely proportionate, and in Pro Shop is disroportionate**.\n",
    " - Bar: While the engagement touchpoints are high (customers buy frequently), the items are priced relatively lower. \n",
    " - Pro Shop: The engagement touchpoints are not generating desired revenue. This pattern likely happens when revenue is highly affected by an abnormally-high or abnormally low-priced item. In other words the variance of prices is big. Maybe only certain Pro Shop goods are driving revenue, but everything else are not revenue-generating.\n",
    " > Looking at the Pro Shop items further, we see the following:  \n",
    "     - Racquets are generating high revenue but at a lower frequency\n",
    "     - Shoe and apparel are adequately priced and follow the ~1:2 ratio (engagement:revenue)\n",
    "     - The rest are low priced items that generating visible (but low) revenue because of the amount of items purchased."
   ]
  },
  {
   "cell_type": "code",
   "execution_count": null,
   "metadata": {},
   "outputs": [],
   "source": [
    "ps = df[df.category==\"Pro Shop\"]\n",
    "ps = ps.groupby(\"item_group\").agg({\"total\":sum,\"trans_id\":\"count\"}).rename(columns={\"total\":\"revenue\",\"trans_id\":\"no_transactions\"}).reset_index()"
   ]
  },
  {
   "cell_type": "code",
   "execution_count": null,
   "metadata": {},
   "outputs": [],
   "source": [
    "fig, ax1 = plt.subplots(figsize=(15,5))\n",
    "\n",
    "lab1 = ax1.bar(x=ps.item_group,height=ps.no_transactions,color=\"lightgray\",label=\"number of transactions\")\n",
    "ax1.grid(False)\n",
    "ax1.set_ylabel(\"No. of Items Sold\")\n",
    "\n",
    "ax2 = ax1.twinx()\n",
    "lab2 = ax2.plot(ps.revenue,color=\"tomato\",marker=\"s\",label=\"revenue\")\n",
    "ax2.set_ylabel('', color='tomato')\n",
    "ax2.tick_params('y', colors='tomato')\n",
    "ax2.grid(False)\n",
    "ax2.set_ylabel(\"Revenue in $\")\n",
    "\n",
    "\n",
    "plt.suptitle(\"How Does Engagement and Revenue Compare in Various Pro Shop Items?\")\n",
    "plt.legend((lab1,lab2),(\"y\",\"z\"),loc='upper center', ncol=1, borderaxespad=0, facecolor=\"inherit\", frameon=False)\n",
    "plt.show()"
   ]
  },
  {
   "cell_type": "markdown",
   "metadata": {},
   "source": [
    "### 3. Decomposing Trends"
   ]
  },
  {
   "cell_type": "code",
   "execution_count": null,
   "metadata": {},
   "outputs": [],
   "source": [
    "fig = plt.figure(figsize=(16,5))\n",
    "\n",
    "ax1 = fig.add_subplot(321)\n",
    "ax2 = fig.add_subplot(322)\n",
    "ax3 = fig.add_subplot(323)\n",
    "ax4 = fig.add_subplot(324)\n",
    "ax5 = fig.add_subplot(325)\n",
    "ax6 = fig.add_subplot(326)\n",
    "\n",
    "categories = {\"Admin\":ax1,\"Bar\":ax2,\"Tennis\":ax3,\"Fitness\":ax4,\"Event\":ax5,\"Pro Shop\":ax6}\n",
    "\n",
    "for c,axis in categories.items():\n",
    "    decomposition_rev = sm.tsa.seasonal_decompose(dft[dft[\"category\"]==c][\"total\"].resample('Q').sum(), model='additive')\n",
    "    trend_rev = decomposition_rev.trend\n",
    "    trend_rev.plot(ax=axis, title=f\"{c}\",color=\"#328B9B\")\n",
    "    if (c == \"Event\") or (c == \"Pro Shop\"):\n",
    "        axis.get_xaxis().set_visible(True)\n",
    "        axis.get_yaxis().set_visible(False)\n",
    "        axis.grid(False)\n",
    "    else:\n",
    "        axis.get_xaxis().set_visible(False)\n",
    "        axis.get_yaxis().set_visible(False)\n",
    "        \n",
    "plt.subplots_adjust(hspace=0.4)\n",
    "# plt.savefig('graph/trend_rev.png', transparent=True)"
   ]
  },
  {
   "cell_type": "code",
   "execution_count": null,
   "metadata": {},
   "outputs": [],
   "source": [
    "fig = plt.figure(figsize=(16,7))\n",
    "\n",
    "ax1 = fig.add_subplot(321)\n",
    "ax2 = fig.add_subplot(322)\n",
    "ax3 = fig.add_subplot(323)\n",
    "ax4 = fig.add_subplot(324)\n",
    "ax5 = fig.add_subplot(325)\n",
    "ax6 = fig.add_subplot(326)\n",
    "\n",
    "categories = {\"Admin\":ax1,\"Bar\":ax2,\"Tennis\":ax3,\"Fitness\":ax4,\"Event\":ax5,\"Pro Shop\":ax6}\n",
    "\n",
    "for c,axis in categories.items():\n",
    "    decomposition_rev = sm.tsa.seasonal_decompose(dft[dft[\"category\"]==c][\"total\"].resample('MS').sum(), model='additive')\n",
    "    trend_rev = decomposition_rev.observed\n",
    "    trend_rev.plot(ax=axis, title=f\"{c}\",color=\"lightgray\")\n",
    "    if (c == \"Event\") or (c == \"Pro Shop\"):\n",
    "        axis.get_xaxis().set_visible(True)\n",
    "        axis.get_yaxis().set_visible(False)\n",
    "        axis.grid(False)\n",
    "    else:\n",
    "        axis.get_xaxis().set_visible(False)\n",
    "        axis.get_yaxis().set_visible(False)\n",
    "        \n",
    "plt.subplots_adjust(hspace=0.4)\n",
    "# plt.savefig('graph/trend_obs.png', transparent=True)"
   ]
  },
  {
   "cell_type": "markdown",
   "metadata": {},
   "source": [
    "What: **Trend Decomposition**\n",
    " - When we remove the residual and seasonality, these are the trends per product category. In the above chart, we see smooth trend movements.\n",
    "  \n",
    "So What: **Some categories are in an uptrend, others are in downtrend**\n",
    " - Uptrend\n",
    "     - Admin\n",
    "     - Bar\n",
    "     - Tennis\n",
    "     - Event\n",
    " - Downtrend\n",
    "     - Fitness\n",
    "     - Pro Shop\n",
    " - Discernible changepoints happened towards the latter part of 2016 that caused `Tennis` and `Event` to dip but a trend reversal shortly followed.\n",
    " - `Bar` sales continue to rise especially when Naturally opened in the middle of 2018.\n",
    " - `Fitness` sales peaked in in the middle of 2017 but in a rapid fall thereon.\n",
    " - `Pro Shop` has not seen any growth since 2016."
   ]
  },
  {
   "cell_type": "markdown",
   "metadata": {},
   "source": [
    "### 4. Decomposing Seasonality"
   ]
  },
  {
   "cell_type": "markdown",
   "metadata": {},
   "source": [
    "#### Decomposition of Seasonality"
   ]
  },
  {
   "cell_type": "code",
   "execution_count": null,
   "metadata": {},
   "outputs": [],
   "source": [
    "fig = plt.figure(figsize=(16,7))\n",
    "\n",
    "ax1 = fig.add_subplot(321)\n",
    "ax2 = fig.add_subplot(322)\n",
    "ax3 = fig.add_subplot(323)\n",
    "ax4 = fig.add_subplot(324)\n",
    "ax5 = fig.add_subplot(325)\n",
    "ax6 = fig.add_subplot(326)\n",
    "\n",
    "categories = {\"Admin\":ax1,\"Bar\":ax2,\"Tennis\":ax3,\"Fitness\":ax4,\"Event\":ax5,\"Pro Shop\":ax6}\n",
    "\n",
    "for c,axis in categories.items():\n",
    "    decomposition = sm.tsa.seasonal_decompose(dft[dft[\"category\"]==c][\"total\"].resample('MS').sum(), model='additive')    \n",
    "    seasons = decomposition.seasonal\n",
    "    seasons.plot(ax=axis, title=f\"{c}\",color=\"#328B9B\")\n",
    "    if (c == \"Event\") or (c == \"Pro Shop\"):\n",
    "        axis.get_yaxis().set_visible(False)\n",
    "        axis.grid(True)\n",
    "    else:\n",
    "        axis.get_xaxis().set_visible(False)\n",
    "        axis.get_yaxis().set_visible(False)\n",
    "        axis.grid(True)\n",
    "        \n",
    "fig.subplots_adjust(hspace=0.4)\n",
    "plt.savefig('graph/seasonality_rev.png', transparent=True)"
   ]
  },
  {
   "cell_type": "code",
   "execution_count": null,
   "metadata": {},
   "outputs": [],
   "source": [
    "fig = plt.figure(figsize=(16,7))\n",
    "\n",
    "ax1 = fig.add_subplot(321)\n",
    "ax2 = fig.add_subplot(322)\n",
    "ax3 = fig.add_subplot(323)\n",
    "ax4 = fig.add_subplot(324)\n",
    "ax5 = fig.add_subplot(325)\n",
    "ax6 = fig.add_subplot(326)\n",
    "\n",
    "categories = {\"Admin\":ax1,\"Bar\":ax2,\"Tennis\":ax3,\"Fitness\":ax4,\"Event\":ax5,\"Pro Shop\":ax6}\n",
    "\n",
    "for c,axis in categories.items():\n",
    "    decomposition = sm.tsa.seasonal_decompose(dft[dft[\"category\"]==c][\"trans_id\"].resample('MS').count(), model='additive')    \n",
    "    seasons = decomposition.seasonal\n",
    "    seasons.plot(ax=axis, title=f\"{c}\",color=\"#7FB13F\")\n",
    "    if (c == \"Event\") or (c == \"Pro Shop\"):\n",
    "        axis.get_yaxis().set_visible(False)\n",
    "        axis.grid(True)\n",
    "    else:\n",
    "        axis.get_xaxis().set_visible(False)\n",
    "        axis.get_yaxis().set_visible(False)\n",
    "        axis.grid(True)\n",
    "        \n",
    "fig.subplots_adjust(hspace=0.4)\n",
    "# plt.savefig('graph/seasonality_eng.png', transparent=True)"
   ]
  },
  {
   "cell_type": "markdown",
   "metadata": {},
   "source": [
    "#### Auto Correlation and Seasonality"
   ]
  },
  {
   "cell_type": "code",
   "execution_count": null,
   "metadata": {},
   "outputs": [],
   "source": [
    "admin_monthly = dft[dft.category==\"Admin\"].resample(\"MS\")[[\"total\"]].sum()\n",
    "bar_monthly = dft[dft.category==\"Bar\"].resample(\"MS\")[[\"total\"]].sum()\n",
    "tennis_monthly = dft[dft.category==\"Tennis\"].resample(\"MS\")[[\"total\"]].sum()\n",
    "fitness_monthly = dft[dft.category==\"Fitness\"].resample(\"MS\")[[\"total\"]].sum()\n",
    "event_monthly = dft[dft.category==\"Event\"].resample(\"MS\")[[\"total\"]].sum()\n",
    "ps_monthly = dft[dft.category==\"Pro Shop\"].resample(\"MS\")[[\"total\"]].sum()"
   ]
  },
  {
   "cell_type": "code",
   "execution_count": null,
   "metadata": {},
   "outputs": [],
   "source": [
    "acf_dfs = [admin_monthly,bar_monthly,tennis_monthly,fitness_monthly,event_monthly,ps_monthly]\n",
    "pc = [\"Admin\",\"Bar\",\"Tennis\",\"Fitness\",\"Event\",\"Pro Shop\"]"
   ]
  },
  {
   "cell_type": "code",
   "execution_count": null,
   "metadata": {},
   "outputs": [],
   "source": [
    "# from statsmodels.tsa.stattools import acf, pacf\n",
    "# from statsmodels.graphics.tsaplots import plot_acf, plot_pacf\n",
    "\n",
    "# fig, axs = plt.subplots(6,1,figsize=(16,25), dpi= 100)\n",
    "\n",
    "# for index,subset in enumerate(acf_dfs):\n",
    "#     plot_acf(subset[\"total\"].tolist(), lags=54, ax=axs[index])\n",
    "#     axs[index].spines['top'].set_visible(False)\n",
    "#     axs[index].spines['right'].set_visible(False)\n",
    "#     axs[index].spines['bottom'].set_visible(False)\n",
    "#     axs[index].spines['left'].set_visible(False)\n",
    "\n",
    "# for index,cat in enumerate(pc):\n",
    "#     axs[index].set_title(cat)\n",
    "\n",
    "\n",
    "# plt.subplots_adjust(hspace=0.4)"
   ]
  },
  {
   "cell_type": "code",
   "execution_count": null,
   "metadata": {},
   "outputs": [],
   "source": [
    "sales_hourly = dft.pivot_table(index=dft.index.strftime(\"%D\"), columns=\"category\", values=\"total\",aggfunc=np.mean,fill_value=0)\n",
    "engagement_hourly = dft.pivot_table(index=dft.index.strftime(\"%D\"), columns=\"category\", values=\"total\",aggfunc=\"count\",fill_value=0)"
   ]
  },
  {
   "cell_type": "code",
   "execution_count": null,
   "metadata": {},
   "outputs": [],
   "source": [
    "fig = plt.figure(figsize=(16,16))\n",
    "plt.suptitle(\"Average Sales By Hour of Day\")\n",
    "\n",
    "ax1 = fig.add_subplot(321)\n",
    "ax2 = fig.add_subplot(322)\n",
    "ax3 = fig.add_subplot(323)\n",
    "ax4 = fig.add_subplot(324)\n",
    "ax5 = fig.add_subplot(325)\n",
    "ax6 = fig.add_subplot(326)\n",
    "\n",
    "categories = {\"Admin\":ax1,\"Bar\":ax2,\"Tennis\":ax3,\"Fitness\":ax4,\"Event\":ax5,\"Pro Shop\":ax6}\n",
    "\n",
    "for c,axis in categories.items():\n",
    "    sales_hourly[c].plot.bar(ax=axis,title=f\"{c}\")\n",
    "    \n",
    "# plt.subplots_adjust(hspace=0.4)"
   ]
  },
  {
   "cell_type": "code",
   "execution_count": null,
   "metadata": {},
   "outputs": [],
   "source": [
    "fig = plt.figure(figsize=(16,16))\n",
    "plt.suptitle(\"Average Engagement By Day\")\n",
    "\n",
    "ax1 = fig.add_subplot(321)\n",
    "ax2 = fig.add_subplot(322)\n",
    "ax3 = fig.add_subplot(323)\n",
    "ax4 = fig.add_subplot(324)\n",
    "ax5 = fig.add_subplot(325)\n",
    "ax6 = fig.add_subplot(326)\n",
    "\n",
    "categories = {\"Admin\":ax1,\"Bar\":ax2,\"Tennis\":ax3,\"Fitness\":ax4,\"Event\":ax5,\"Pro Shop\":ax6}\n",
    "\n",
    "for c,axis in categories.items():\n",
    "    engagement_hourly[c].plot.bar(ax=axis,title=f\"{c}\")\n",
    "    \n",
    "# plt.subplots_adjust(hspace=0.4)"
   ]
  },
  {
   "cell_type": "markdown",
   "metadata": {},
   "source": [
    "### Month-per-month Predictability (Autocorrelation Function)\n",
    "- Admin, Bar - the revenue of present month is very strongly correlated to the month prior at 82%, 88%\n",
    "- Pro Shop - the revenue of present month is moderately correlated to the month prior at 53%\n",
    "- Fitness - the revenue of present month is weakly correlated to 3 months prior at 33%\n",
    "- Tennis, Events - if you want to know what tennis and events revenue will be in the present month, the biggest indication is from 6 months and 11 months ago, respectively. But these relationships are very weak."
   ]
  },
  {
   "cell_type": "code",
   "execution_count": null,
   "metadata": {},
   "outputs": [],
   "source": [
    "for number in range(12):\n",
    "    print(f\"lag month of: {number+1}\")\n",
    "    for df in acf_dfs:\n",
    "        print(df[\"total\"].autocorr(lag=number+1))\n",
    "    print(\" \")"
   ]
  },
  {
   "cell_type": "markdown",
   "metadata": {},
   "source": [
    "# Modeling"
   ]
  },
  {
   "cell_type": "code",
   "execution_count": null,
   "metadata": {},
   "outputs": [],
   "source": [
    "d = dft.copy()\n",
    "d = d.rename(columns={\"total\":\"y\"})\n",
    "d.index = d.index.rename(\"ds\")"
   ]
  },
  {
   "cell_type": "code",
   "execution_count": null,
   "metadata": {},
   "outputs": [],
   "source": [
    "d.head()"
   ]
  },
  {
   "cell_type": "code",
   "execution_count": null,
   "metadata": {},
   "outputs": [],
   "source": [
    "dfbar = d[d.category == \"Bar\"].resample(\"D\").sum()[[\"y\"]].reset_index()\n",
    "dfps = d[d.category == \"Pro Shop\"].resample(\"D\").sum()[[\"y\"]].reset_index()\n",
    "dftennis = d[d.category == \"Tennis\"].resample(\"D\").sum()[[\"y\"]].reset_index()\n",
    "dfadmin = d[d.category == \"Admin\"].resample(\"D\").sum()[[\"y\"]].reset_index()\n",
    "dffitness = d[d.category == \"Fitness\"].resample(\"D\").sum()[[\"y\"]].reset_index()\n",
    "dfevent = d[d.category == \"Event\"].resample(\"D\").sum()[[\"y\"]].reset_index()"
   ]
  },
  {
   "cell_type": "code",
   "execution_count": null,
   "metadata": {},
   "outputs": [],
   "source": [
    "dfbar"
   ]
  },
  {
   "cell_type": "code",
   "execution_count": null,
   "metadata": {},
   "outputs": [],
   "source": []
  }
 ],
 "metadata": {
  "hide_code_all_hidden": false,
  "kernelspec": {
   "display_name": "Python 3",
   "language": "python",
   "name": "python3"
  },
  "language_info": {
   "codemirror_mode": {
    "name": "ipython",
    "version": 3
   },
   "file_extension": ".py",
   "mimetype": "text/x-python",
   "name": "python",
   "nbconvert_exporter": "python",
   "pygments_lexer": "ipython3",
   "version": "3.7.3"
  }
 },
 "nbformat": 4,
 "nbformat_minor": 2
}
