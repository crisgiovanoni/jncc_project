{
 "cells": [
  {
   "cell_type": "markdown",
   "metadata": {},
   "source": [
    "# Business Intelligence by Geomapping"
   ]
  },
  {
   "cell_type": "code",
   "execution_count": 1,
   "metadata": {},
   "outputs": [],
   "source": [
    "import pandas as pd\n",
    "import numpy as np\n",
    "\n",
    "import matplotlib.pyplot as plt\n",
    "import seaborn as sns\n",
    "import geopandas as gpd"
   ]
  },
  {
   "cell_type": "code",
   "execution_count": 13,
   "metadata": {},
   "outputs": [],
   "source": [
    "df = pd.read_csv(\"main_df.csv\",low_memory=False)"
   ]
  },
  {
   "cell_type": "markdown",
   "metadata": {},
   "source": [
    "Filter observations with geocodes and groupby type."
   ]
  },
  {
   "cell_type": "code",
   "execution_count": 16,
   "metadata": {},
   "outputs": [],
   "source": [
    "add = df[df.lat.notna() & df.long.notna()]\n",
    "add = add[add.acn != 2512]"
   ]
  },
  {
   "cell_type": "code",
   "execution_count": 18,
   "metadata": {},
   "outputs": [],
   "source": [
    "acn_with_add = list(with_add.acn.unique())\n",
    "add = add[add.acn.isin(acn_with_add)]"
   ]
  },
  {
   "cell_type": "code",
   "execution_count": 19,
   "metadata": {},
   "outputs": [
    {
     "data": {
      "text/html": [
       "<div>\n",
       "<style scoped>\n",
       "    .dataframe tbody tr th:only-of-type {\n",
       "        vertical-align: middle;\n",
       "    }\n",
       "\n",
       "    .dataframe tbody tr th {\n",
       "        vertical-align: top;\n",
       "    }\n",
       "\n",
       "    .dataframe thead th {\n",
       "        text-align: right;\n",
       "    }\n",
       "</style>\n",
       "<table border=\"1\" class=\"dataframe\">\n",
       "  <thead>\n",
       "    <tr style=\"text-align: right;\">\n",
       "      <th></th>\n",
       "      <th>acn</th>\n",
       "      <th>trans_id</th>\n",
       "      <th>timestamp</th>\n",
       "      <th>item</th>\n",
       "      <th>item_group</th>\n",
       "      <th>total</th>\n",
       "      <th>membership</th>\n",
       "      <th>group</th>\n",
       "      <th>city</th>\n",
       "      <th>state</th>\n",
       "      <th>zipcode</th>\n",
       "      <th>lat</th>\n",
       "      <th>long</th>\n",
       "      <th>category</th>\n",
       "    </tr>\n",
       "  </thead>\n",
       "  <tbody>\n",
       "    <tr>\n",
       "      <th>83477</th>\n",
       "      <td>1303</td>\n",
       "      <td>36628</td>\n",
       "      <td>2015-07-31 00:00:00</td>\n",
       "      <td>Membership for &amp;quot;General Family Membership...</td>\n",
       "      <td>Membership Dues</td>\n",
       "      <td>140.73</td>\n",
       "      <td>General Family Membership</td>\n",
       "      <td>General Family Membership</td>\n",
       "      <td>NEW BRAUNFELS</td>\n",
       "      <td>TX</td>\n",
       "      <td>78132.0</td>\n",
       "      <td>29.714595</td>\n",
       "      <td>-98.285693</td>\n",
       "      <td>Admin</td>\n",
       "    </tr>\n",
       "    <tr>\n",
       "      <th>83478</th>\n",
       "      <td>1303</td>\n",
       "      <td>37385</td>\n",
       "      <td>2015-08-06 20:42:00</td>\n",
       "      <td>$2.00 Ice Cream</td>\n",
       "      <td>Food &amp; Consumables</td>\n",
       "      <td>2.00</td>\n",
       "      <td>General Family Membership</td>\n",
       "      <td>General Family Membership</td>\n",
       "      <td>NEW BRAUNFELS</td>\n",
       "      <td>TX</td>\n",
       "      <td>78132.0</td>\n",
       "      <td>29.714595</td>\n",
       "      <td>-98.285693</td>\n",
       "      <td>Bar</td>\n",
       "    </tr>\n",
       "    <tr>\n",
       "      <th>83479</th>\n",
       "      <td>1303</td>\n",
       "      <td>37397</td>\n",
       "      <td>2015-08-06 21:02:00</td>\n",
       "      <td>Michelob Ultra Bottle</td>\n",
       "      <td>Beer</td>\n",
       "      <td>2.75</td>\n",
       "      <td>General Family Membership</td>\n",
       "      <td>General Family Membership</td>\n",
       "      <td>NEW BRAUNFELS</td>\n",
       "      <td>TX</td>\n",
       "      <td>78132.0</td>\n",
       "      <td>29.714595</td>\n",
       "      <td>-98.285693</td>\n",
       "      <td>Bar</td>\n",
       "    </tr>\n",
       "    <tr>\n",
       "      <th>83480</th>\n",
       "      <td>1303</td>\n",
       "      <td>37395</td>\n",
       "      <td>2015-08-06 20:48:00</td>\n",
       "      <td>Child's Dinner</td>\n",
       "      <td>Dinners</td>\n",
       "      <td>5.41</td>\n",
       "      <td>General Family Membership</td>\n",
       "      <td>General Family Membership</td>\n",
       "      <td>NEW BRAUNFELS</td>\n",
       "      <td>TX</td>\n",
       "      <td>78132.0</td>\n",
       "      <td>29.714595</td>\n",
       "      <td>-98.285693</td>\n",
       "      <td>Event</td>\n",
       "    </tr>\n",
       "    <tr>\n",
       "      <th>83481</th>\n",
       "      <td>1303</td>\n",
       "      <td>31908</td>\n",
       "      <td>2015-06-30 00:00:00</td>\n",
       "      <td>Membership for &amp;quot;General Family Membership...</td>\n",
       "      <td>Membership Dues</td>\n",
       "      <td>140.73</td>\n",
       "      <td>General Family Membership</td>\n",
       "      <td>General Family Membership</td>\n",
       "      <td>NEW BRAUNFELS</td>\n",
       "      <td>TX</td>\n",
       "      <td>78132.0</td>\n",
       "      <td>29.714595</td>\n",
       "      <td>-98.285693</td>\n",
       "      <td>Admin</td>\n",
       "    </tr>\n",
       "  </tbody>\n",
       "</table>\n",
       "</div>"
      ],
      "text/plain": [
       "        acn  trans_id            timestamp  \\\n",
       "83477  1303     36628  2015-07-31 00:00:00   \n",
       "83478  1303     37385  2015-08-06 20:42:00   \n",
       "83479  1303     37397  2015-08-06 21:02:00   \n",
       "83480  1303     37395  2015-08-06 20:48:00   \n",
       "83481  1303     31908  2015-06-30 00:00:00   \n",
       "\n",
       "                                                    item          item_group  \\\n",
       "83477  Membership for &quot;General Family Membership...     Membership Dues   \n",
       "83478                                    $2.00 Ice Cream  Food & Consumables   \n",
       "83479                              Michelob Ultra Bottle                Beer   \n",
       "83480                                     Child's Dinner             Dinners   \n",
       "83481  Membership for &quot;General Family Membership...     Membership Dues   \n",
       "\n",
       "        total                 membership                      group  \\\n",
       "83477  140.73  General Family Membership  General Family Membership   \n",
       "83478    2.00  General Family Membership  General Family Membership   \n",
       "83479    2.75  General Family Membership  General Family Membership   \n",
       "83480    5.41  General Family Membership  General Family Membership   \n",
       "83481  140.73  General Family Membership  General Family Membership   \n",
       "\n",
       "                city state  zipcode        lat       long category  \n",
       "83477  NEW BRAUNFELS    TX  78132.0  29.714595 -98.285693    Admin  \n",
       "83478  NEW BRAUNFELS    TX  78132.0  29.714595 -98.285693      Bar  \n",
       "83479  NEW BRAUNFELS    TX  78132.0  29.714595 -98.285693      Bar  \n",
       "83480  NEW BRAUNFELS    TX  78132.0  29.714595 -98.285693    Event  \n",
       "83481  NEW BRAUNFELS    TX  78132.0  29.714595 -98.285693    Admin  "
      ]
     },
     "execution_count": 19,
     "metadata": {},
     "output_type": "execute_result"
    }
   ],
   "source": [
    "add.head()"
   ]
  },
  {
   "cell_type": "code",
   "execution_count": 53,
   "metadata": {},
   "outputs": [
    {
     "data": {
      "text/plain": [
       "<matplotlib.collections.PathCollection at 0x1a2111a1d0>"
      ]
     },
     "execution_count": 53,
     "metadata": {},
     "output_type": "execute_result"
    },
    {
     "data": {
      "image/png": "[encoded data removed]",
      "text/plain": [
       "<Figure size 720x504 with 1 Axes>"
      ]
     },
     "metadata": {
      "needs_background": "light"
     },
     "output_type": "display_data"
    }
   ],
   "source": [
    "plt.figure(figsize=(10,7))\n",
    "sns.scatterplot(x=\"long\",y=\"lat\",data=add[(add.lat>29.95) | (add.long < (98*-1))],color=\"navy\",edgecolor=None,alpha=.5)\n",
    "plt.scatter(y=29.723358,x=-98.1981613,color=\"firebrick\") #jncc"
   ]
  },
  {
   "cell_type": "code",
   "execution_count": 23,
   "metadata": {},
   "outputs": [],
   "source": [
    "geo = gpd.GeoDataFrame(add, geometry=gpd.points_from_xy(add.long, add.lat))"
   ]
  },
  {
   "cell_type": "code",
   "execution_count": 24,
   "metadata": {},
   "outputs": [
    {
     "data": {
      "text/html": [
       "<div>\n",
       "<style scoped>\n",
       "    .dataframe tbody tr th:only-of-type {\n",
       "        vertical-align: middle;\n",
       "    }\n",
       "\n",
       "    .dataframe tbody tr th {\n",
       "        vertical-align: top;\n",
       "    }\n",
       "\n",
       "    .dataframe thead th {\n",
       "        text-align: right;\n",
       "    }\n",
       "</style>\n",
       "<table border=\"1\" class=\"dataframe\">\n",
       "  <thead>\n",
       "    <tr style=\"text-align: right;\">\n",
       "      <th></th>\n",
       "      <th>acn</th>\n",
       "      <th>trans_id</th>\n",
       "      <th>timestamp</th>\n",
       "      <th>item</th>\n",
       "      <th>item_group</th>\n",
       "      <th>total</th>\n",
       "      <th>membership</th>\n",
       "      <th>group</th>\n",
       "      <th>city</th>\n",
       "      <th>state</th>\n",
       "      <th>zipcode</th>\n",
       "      <th>lat</th>\n",
       "      <th>long</th>\n",
       "      <th>category</th>\n",
       "      <th>geometry</th>\n",
       "    </tr>\n",
       "  </thead>\n",
       "  <tbody>\n",
       "    <tr>\n",
       "      <th>83477</th>\n",
       "      <td>1303</td>\n",
       "      <td>36628</td>\n",
       "      <td>2015-07-31 00:00:00</td>\n",
       "      <td>Membership for &amp;quot;General Family Membership...</td>\n",
       "      <td>Membership Dues</td>\n",
       "      <td>140.73</td>\n",
       "      <td>General Family Membership</td>\n",
       "      <td>General Family Membership</td>\n",
       "      <td>NEW BRAUNFELS</td>\n",
       "      <td>TX</td>\n",
       "      <td>78132.0</td>\n",
       "      <td>29.714595</td>\n",
       "      <td>-98.285693</td>\n",
       "      <td>Admin</td>\n",
       "      <td>POINT (-98.28569 29.71459)</td>\n",
       "    </tr>\n",
       "    <tr>\n",
       "      <th>83478</th>\n",
       "      <td>1303</td>\n",
       "      <td>37385</td>\n",
       "      <td>2015-08-06 20:42:00</td>\n",
       "      <td>$2.00 Ice Cream</td>\n",
       "      <td>Food &amp; Consumables</td>\n",
       "      <td>2.00</td>\n",
       "      <td>General Family Membership</td>\n",
       "      <td>General Family Membership</td>\n",
       "      <td>NEW BRAUNFELS</td>\n",
       "      <td>TX</td>\n",
       "      <td>78132.0</td>\n",
       "      <td>29.714595</td>\n",
       "      <td>-98.285693</td>\n",
       "      <td>Bar</td>\n",
       "      <td>POINT (-98.28569 29.71459)</td>\n",
       "    </tr>\n",
       "    <tr>\n",
       "      <th>83479</th>\n",
       "      <td>1303</td>\n",
       "      <td>37397</td>\n",
       "      <td>2015-08-06 21:02:00</td>\n",
       "      <td>Michelob Ultra Bottle</td>\n",
       "      <td>Beer</td>\n",
       "      <td>2.75</td>\n",
       "      <td>General Family Membership</td>\n",
       "      <td>General Family Membership</td>\n",
       "      <td>NEW BRAUNFELS</td>\n",
       "      <td>TX</td>\n",
       "      <td>78132.0</td>\n",
       "      <td>29.714595</td>\n",
       "      <td>-98.285693</td>\n",
       "      <td>Bar</td>\n",
       "      <td>POINT (-98.28569 29.71459)</td>\n",
       "    </tr>\n",
       "    <tr>\n",
       "      <th>83480</th>\n",
       "      <td>1303</td>\n",
       "      <td>37395</td>\n",
       "      <td>2015-08-06 20:48:00</td>\n",
       "      <td>Child's Dinner</td>\n",
       "      <td>Dinners</td>\n",
       "      <td>5.41</td>\n",
       "      <td>General Family Membership</td>\n",
       "      <td>General Family Membership</td>\n",
       "      <td>NEW BRAUNFELS</td>\n",
       "      <td>TX</td>\n",
       "      <td>78132.0</td>\n",
       "      <td>29.714595</td>\n",
       "      <td>-98.285693</td>\n",
       "      <td>Event</td>\n",
       "      <td>POINT (-98.28569 29.71459)</td>\n",
       "    </tr>\n",
       "    <tr>\n",
       "      <th>83481</th>\n",
       "      <td>1303</td>\n",
       "      <td>31908</td>\n",
       "      <td>2015-06-30 00:00:00</td>\n",
       "      <td>Membership for &amp;quot;General Family Membership...</td>\n",
       "      <td>Membership Dues</td>\n",
       "      <td>140.73</td>\n",
       "      <td>General Family Membership</td>\n",
       "      <td>General Family Membership</td>\n",
       "      <td>NEW BRAUNFELS</td>\n",
       "      <td>TX</td>\n",
       "      <td>78132.0</td>\n",
       "      <td>29.714595</td>\n",
       "      <td>-98.285693</td>\n",
       "      <td>Admin</td>\n",
       "      <td>POINT (-98.28569 29.71459)</td>\n",
       "    </tr>\n",
       "  </tbody>\n",
       "</table>\n",
       "</div>"
      ],
      "text/plain": [
       "        acn  trans_id            timestamp  \\\n",
       "83477  1303     36628  2015-07-31 00:00:00   \n",
       "83478  1303     37385  2015-08-06 20:42:00   \n",
       "83479  1303     37397  2015-08-06 21:02:00   \n",
       "83480  1303     37395  2015-08-06 20:48:00   \n",
       "83481  1303     31908  2015-06-30 00:00:00   \n",
       "\n",
       "                                                    item          item_group  \\\n",
       "83477  Membership for &quot;General Family Membership...     Membership Dues   \n",
       "83478                                    $2.00 Ice Cream  Food & Consumables   \n",
       "83479                              Michelob Ultra Bottle                Beer   \n",
       "83480                                     Child's Dinner             Dinners   \n",
       "83481  Membership for &quot;General Family Membership...     Membership Dues   \n",
       "\n",
       "        total                 membership                      group  \\\n",
       "83477  140.73  General Family Membership  General Family Membership   \n",
       "83478    2.00  General Family Membership  General Family Membership   \n",
       "83479    2.75  General Family Membership  General Family Membership   \n",
       "83480    5.41  General Family Membership  General Family Membership   \n",
       "83481  140.73  General Family Membership  General Family Membership   \n",
       "\n",
       "                city state  zipcode        lat       long category  \\\n",
       "83477  NEW BRAUNFELS    TX  78132.0  29.714595 -98.285693    Admin   \n",
       "83478  NEW BRAUNFELS    TX  78132.0  29.714595 -98.285693      Bar   \n",
       "83479  NEW BRAUNFELS    TX  78132.0  29.714595 -98.285693      Bar   \n",
       "83480  NEW BRAUNFELS    TX  78132.0  29.714595 -98.285693    Event   \n",
       "83481  NEW BRAUNFELS    TX  78132.0  29.714595 -98.285693    Admin   \n",
       "\n",
       "                         geometry  \n",
       "83477  POINT (-98.28569 29.71459)  \n",
       "83478  POINT (-98.28569 29.71459)  \n",
       "83479  POINT (-98.28569 29.71459)  \n",
       "83480  POINT (-98.28569 29.71459)  \n",
       "83481  POINT (-98.28569 29.71459)  "
      ]
     },
     "execution_count": 24,
     "metadata": {},
     "output_type": "execute_result"
    }
   ],
   "source": [
    "geo.head()"
   ]
  },
  {
   "cell_type": "code",
   "execution_count": 41,
   "metadata": {},
   "outputs": [],
   "source": [
    "nb = gpd.read_file(\"Building_Footprints_New_Braunfels_ETJ_and_City_Area.shp\")"
   ]
  },
  {
   "cell_type": "code",
   "execution_count": 42,
   "metadata": {},
   "outputs": [
    {
     "data": {
      "text/html": [
       "<div>\n",
       "<style scoped>\n",
       "    .dataframe tbody tr th:only-of-type {\n",
       "        vertical-align: middle;\n",
       "    }\n",
       "\n",
       "    .dataframe tbody tr th {\n",
       "        vertical-align: top;\n",
       "    }\n",
       "\n",
       "    .dataframe thead th {\n",
       "        text-align: right;\n",
       "    }\n",
       "</style>\n",
       "<table border=\"1\" class=\"dataframe\">\n",
       "  <thead>\n",
       "    <tr style=\"text-align: right;\">\n",
       "      <th></th>\n",
       "      <th>OBJECTID_1</th>\n",
       "      <th>BldName</th>\n",
       "      <th>FEATURECOD</th>\n",
       "      <th>ShapeSTAre</th>\n",
       "      <th>ShapeSTLen</th>\n",
       "      <th>GlobalID_1</th>\n",
       "      <th>ShapeSTA_1</th>\n",
       "      <th>ShapeSTL_1</th>\n",
       "      <th>geometry</th>\n",
       "    </tr>\n",
       "  </thead>\n",
       "  <tbody>\n",
       "    <tr>\n",
       "      <th>0</th>\n",
       "      <td>1</td>\n",
       "      <td>None</td>\n",
       "      <td>Commercial or Retail Facility</td>\n",
       "      <td>273486.337891</td>\n",
       "      <td>5494.088845</td>\n",
       "      <td>{D3E665AA-CA45-4A45-91D8-D1930F4999E1}</td>\n",
       "      <td>273486.349609</td>\n",
       "      <td>5494.088845</td>\n",
       "      <td>POLYGON ((2253907.164 13802650.182, 2253983.66...</td>\n",
       "    </tr>\n",
       "    <tr>\n",
       "      <th>1</th>\n",
       "      <td>2</td>\n",
       "      <td>None</td>\n",
       "      <td>Commercial or Retail Facility</td>\n",
       "      <td>16798.429688</td>\n",
       "      <td>626.354876</td>\n",
       "      <td>{C6B56021-809D-4397-A7C2-97B077559519}</td>\n",
       "      <td>16798.433594</td>\n",
       "      <td>626.354876</td>\n",
       "      <td>POLYGON ((2250118.924 13799337.357, 2250359.08...</td>\n",
       "    </tr>\n",
       "    <tr>\n",
       "      <th>2</th>\n",
       "      <td>3</td>\n",
       "      <td>None</td>\n",
       "      <td>Commercial or Retail Facility</td>\n",
       "      <td>167532.792969</td>\n",
       "      <td>3098.610751</td>\n",
       "      <td>{B9D85A22-CBCD-44D0-9787-DC54FB82143D}</td>\n",
       "      <td>167532.791016</td>\n",
       "      <td>3098.610751</td>\n",
       "      <td>POLYGON ((2251392.096 13799192.897, 2251249.62...</td>\n",
       "    </tr>\n",
       "    <tr>\n",
       "      <th>3</th>\n",
       "      <td>4</td>\n",
       "      <td>None</td>\n",
       "      <td>Commercial or Retail Facility</td>\n",
       "      <td>4433.570312</td>\n",
       "      <td>267.289757</td>\n",
       "      <td>{F6A6C7B0-6C6D-4318-9A44-01995A854A8E}</td>\n",
       "      <td>4433.572266</td>\n",
       "      <td>267.289757</td>\n",
       "      <td>POLYGON ((2250311.768 13799504.880, 2250372.02...</td>\n",
       "    </tr>\n",
       "    <tr>\n",
       "      <th>4</th>\n",
       "      <td>5</td>\n",
       "      <td>None</td>\n",
       "      <td>Commercial or Retail Facility</td>\n",
       "      <td>3187.648438</td>\n",
       "      <td>250.689766</td>\n",
       "      <td>{295271B5-E456-4D0F-9CC2-E49F0184AF5E}</td>\n",
       "      <td>3187.652344</td>\n",
       "      <td>250.689766</td>\n",
       "      <td>POLYGON ((2250631.535 13799516.335, 2250635.59...</td>\n",
       "    </tr>\n",
       "  </tbody>\n",
       "</table>\n",
       "</div>"
      ],
      "text/plain": [
       "   OBJECTID_1 BldName                     FEATURECOD     ShapeSTAre  \\\n",
       "0           1    None  Commercial or Retail Facility  273486.337891   \n",
       "1           2    None  Commercial or Retail Facility   16798.429688   \n",
       "2           3    None  Commercial or Retail Facility  167532.792969   \n",
       "3           4    None  Commercial or Retail Facility    4433.570312   \n",
       "4           5    None  Commercial or Retail Facility    3187.648438   \n",
       "\n",
       "    ShapeSTLen                              GlobalID_1     ShapeSTA_1  \\\n",
       "0  5494.088845  {D3E665AA-CA45-4A45-91D8-D1930F4999E1}  273486.349609   \n",
       "1   626.354876  {C6B56021-809D-4397-A7C2-97B077559519}   16798.433594   \n",
       "2  3098.610751  {B9D85A22-CBCD-44D0-9787-DC54FB82143D}  167532.791016   \n",
       "3   267.289757  {F6A6C7B0-6C6D-4318-9A44-01995A854A8E}    4433.572266   \n",
       "4   250.689766  {295271B5-E456-4D0F-9CC2-E49F0184AF5E}    3187.652344   \n",
       "\n",
       "    ShapeSTL_1                                           geometry  \n",
       "0  5494.088845  POLYGON ((2253907.164 13802650.182, 2253983.66...  \n",
       "1   626.354876  POLYGON ((2250118.924 13799337.357, 2250359.08...  \n",
       "2  3098.610751  POLYGON ((2251392.096 13799192.897, 2251249.62...  \n",
       "3   267.289757  POLYGON ((2250311.768 13799504.880, 2250372.02...  \n",
       "4   250.689766  POLYGON ((2250631.535 13799516.335, 2250635.59...  "
      ]
     },
     "execution_count": 42,
     "metadata": {},
     "output_type": "execute_result"
    }
   ],
   "source": [
    "nb.head()"
   ]
  },
  {
   "cell_type": "code",
   "execution_count": 45,
   "metadata": {},
   "outputs": [
    {
     "data": {
      "text/plain": [
       "<Figure size 720x504 with 0 Axes>"
      ]
     },
     "metadata": {},
     "output_type": "display_data"
    },
    {
     "data": {
      "image/png": "[encoded data removed]",
      "text/plain": [
       "<Figure size 432x288 with 1 Axes>"
      ]
     },
     "metadata": {
      "needs_background": "light"
     },
     "output_type": "display_data"
    }
   ],
   "source": [
    "plt.figure(figsize=(10,7))\n",
    "nb.geometry.plot()\n",
    "\n",
    "plt.show()"
   ]
  },
  {
   "cell_type": "code",
   "execution_count": 39,
   "metadata": {},
   "outputs": [
    {
     "name": "stderr",
     "output_type": "stream",
     "text": [
      "/usr/local/anaconda3/lib/python3.7/site-packages/geopandas/plotting.py:487: UserWarning: The GeoDataFrame you are attempting to plot is empty. Nothing has been displayed.\n",
      "  UserWarning,\n"
     ]
    },
    {
     "data": {
      "image/png": "[encoded data removed]",
      "text/plain": [
       "<Figure size 432x288 with 1 Axes>"
      ]
     },
     "metadata": {
      "needs_background": "light"
     },
     "output_type": "display_data"
    }
   ],
   "source": [
    "ax = texas[texas[\"HQ\"] == \"New Braunfels\"].plot()"
   ]
  },
  {
   "cell_type": "code",
   "execution_count": null,
   "metadata": {},
   "outputs": [],
   "source": [
    "# We restrict to South America.\n",
    "ax = world[world.continent == 'South America'].plot(\n",
    "    color='white', edgecolor='black')\n",
    "\n",
    "# We can now plot our ``GeoDataFrame``.\n",
    "gdf.plot(ax=ax, color='red')\n",
    "\n",
    "plt.show()"
   ]
  }
 ],
 "metadata": {
  "kernelspec": {
   "display_name": "Python 3",
   "language": "python",
   "name": "python3"
  },
  "language_info": {
   "codemirror_mode": {
    "name": "ipython",
    "version": 3
   },
   "file_extension": ".py",
   "mimetype": "text/x-python",
   "name": "python",
   "nbconvert_exporter": "python",
   "pygments_lexer": "ipython3",
   "version": "3.7.3"
  }
 },
 "nbformat": 4,
 "nbformat_minor": 2
}
