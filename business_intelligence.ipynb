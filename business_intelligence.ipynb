{
 "cells": [
  {
   "cell_type": "markdown",
   "metadata": {},
   "source": [
    "Business Intelligence\n",
    "\n",
    "Time Series Analysis\n",
    "- Are there monthly and weekly sales seasonality?\n",
    "- Are there anomalous* peaks and troughs - what could explain them?\n",
    "- How does every year from 2015-2019 compare against each other?\n",
    "  \n",
    "Distribution and Aggregations\n",
    "- What's the distribution of sales per product category^? \n",
    "- What's the dollar value per month/year per:\n",
    "  - individual\n",
    "  - cluster (once identified)\n",
    "  - product category"
   ]
  },
  {
   "cell_type": "code",
   "execution_count": 2,
   "metadata": {},
   "outputs": [],
   "source": [
    "import pandas as pd\n",
    "import numpy as np\n",
    "\n",
    "%matplotlib inline\n",
    "import matplotlib.pyplot as plt\n",
    "import seaborn as sns"
   ]
  },
  {
   "cell_type": "code",
   "execution_count": 94,
   "metadata": {},
   "outputs": [],
   "source": [
    "# member = pd.read_csv(\"cl_member.csv\")\n",
    "guest = pd.read_csv(\"cl_guest.csv\")"
   ]
  },
  {
   "cell_type": "code",
   "execution_count": 226,
   "metadata": {},
   "outputs": [],
   "source": [
    "# df = member[[\"acn\",\"timestamp\",\"item\",\"item_group\",\"total\",\"sys_id\"]]\n",
    "# df = df.rename(columns={\"acn\":\"id\",\"sys_id\":\"product_category\"})"
   ]
  },
  {
   "cell_type": "code",
   "execution_count": 95,
   "metadata": {},
   "outputs": [
    {
     "data": {
      "text/html": [
       "<div>\n",
       "<style scoped>\n",
       "    .dataframe tbody tr th:only-of-type {\n",
       "        vertical-align: middle;\n",
       "    }\n",
       "\n",
       "    .dataframe tbody tr th {\n",
       "        vertical-align: top;\n",
       "    }\n",
       "\n",
       "    .dataframe thead th {\n",
       "        text-align: right;\n",
       "    }\n",
       "</style>\n",
       "<table border=\"1\" class=\"dataframe\">\n",
       "  <thead>\n",
       "    <tr style=\"text-align: right;\">\n",
       "      <th></th>\n",
       "      <th>Unnamed: 0</th>\n",
       "      <th>trans_id</th>\n",
       "      <th>timestamp</th>\n",
       "      <th>name</th>\n",
       "      <th>item</th>\n",
       "      <th>item_group</th>\n",
       "      <th>status</th>\n",
       "      <th>quantity</th>\n",
       "      <th>subtotal</th>\n",
       "      <th>discount</th>\n",
       "      <th>tax</th>\n",
       "      <th>total</th>\n",
       "      <th>paid</th>\n",
       "      <th>refund</th>\n",
       "      <th>balance</th>\n",
       "      <th>acn</th>\n",
       "      <th>sys_id</th>\n",
       "    </tr>\n",
       "  </thead>\n",
       "  <tbody>\n",
       "    <tr>\n",
       "      <th>0</th>\n",
       "      <td>0</td>\n",
       "      <td>201066</td>\n",
       "      <td>2019-03-29 20:42:00</td>\n",
       "      <td>Lara Cornell</td>\n",
       "      <td>24 Hours of Tennis Ping Pong</td>\n",
       "      <td>24 Hour Charity Event</td>\n",
       "      <td>Paid</td>\n",
       "      <td>2.0</td>\n",
       "      <td>20.0</td>\n",
       "      <td>0.0</td>\n",
       "      <td>0.00</td>\n",
       "      <td>20.00</td>\n",
       "      <td>20.00</td>\n",
       "      <td>0.0</td>\n",
       "      <td>0.0</td>\n",
       "      <td>NaN</td>\n",
       "      <td>4283</td>\n",
       "    </tr>\n",
       "    <tr>\n",
       "      <th>1</th>\n",
       "      <td>1</td>\n",
       "      <td>152150</td>\n",
       "      <td>2018-04-17 18:26:00</td>\n",
       "      <td>Melanie Bishop</td>\n",
       "      <td>Kick Off Clinic</td>\n",
       "      <td>24 Hour Charity Event</td>\n",
       "      <td>Paid</td>\n",
       "      <td>1.0</td>\n",
       "      <td>25.0</td>\n",
       "      <td>0.0</td>\n",
       "      <td>0.00</td>\n",
       "      <td>25.00</td>\n",
       "      <td>25.00</td>\n",
       "      <td>0.0</td>\n",
       "      <td>0.0</td>\n",
       "      <td>NaN</td>\n",
       "      <td>1656</td>\n",
       "    </tr>\n",
       "    <tr>\n",
       "      <th>2</th>\n",
       "      <td>2</td>\n",
       "      <td>198364</td>\n",
       "      <td>2019-03-11 10:48:00</td>\n",
       "      <td>Frost Bank</td>\n",
       "      <td>Frost Bank- 24 Hours of Tennis Community Sponsor</td>\n",
       "      <td>24 Hour- Sponsorship</td>\n",
       "      <td>Paid</td>\n",
       "      <td>1.0</td>\n",
       "      <td>500.0</td>\n",
       "      <td>0.0</td>\n",
       "      <td>0.00</td>\n",
       "      <td>500.00</td>\n",
       "      <td>500.00</td>\n",
       "      <td>0.0</td>\n",
       "      <td>0.0</td>\n",
       "      <td>NaN</td>\n",
       "      <td>1864</td>\n",
       "    </tr>\n",
       "    <tr>\n",
       "      <th>3</th>\n",
       "      <td>3</td>\n",
       "      <td>204816</td>\n",
       "      <td>2019-04-22 11:06:00</td>\n",
       "      <td>Lisa Munekawa</td>\n",
       "      <td>JNCC HAT</td>\n",
       "      <td>Accessories</td>\n",
       "      <td>Paid</td>\n",
       "      <td>1.0</td>\n",
       "      <td>17.0</td>\n",
       "      <td>0.0</td>\n",
       "      <td>1.40</td>\n",
       "      <td>18.40</td>\n",
       "      <td>18.40</td>\n",
       "      <td>0.0</td>\n",
       "      <td>0.0</td>\n",
       "      <td>NaN</td>\n",
       "      <td>4629</td>\n",
       "    </tr>\n",
       "    <tr>\n",
       "      <th>4</th>\n",
       "      <td>4</td>\n",
       "      <td>16014</td>\n",
       "      <td>2015-03-11 18:29:00</td>\n",
       "      <td>Jennifer Growcock</td>\n",
       "      <td>Pro Overgrip</td>\n",
       "      <td>Accessories</td>\n",
       "      <td>Paid</td>\n",
       "      <td>1.0</td>\n",
       "      <td>8.0</td>\n",
       "      <td>0.0</td>\n",
       "      <td>0.66</td>\n",
       "      <td>8.66</td>\n",
       "      <td>8.66</td>\n",
       "      <td>0.0</td>\n",
       "      <td>0.0</td>\n",
       "      <td>NaN</td>\n",
       "      <td>1317</td>\n",
       "    </tr>\n",
       "  </tbody>\n",
       "</table>\n",
       "</div>"
      ],
      "text/plain": [
       "   Unnamed: 0  trans_id            timestamp               name  \\\n",
       "0           0    201066  2019-03-29 20:42:00       Lara Cornell   \n",
       "1           1    152150  2018-04-17 18:26:00     Melanie Bishop   \n",
       "2           2    198364  2019-03-11 10:48:00         Frost Bank   \n",
       "3           3    204816  2019-04-22 11:06:00      Lisa Munekawa   \n",
       "4           4     16014  2015-03-11 18:29:00  Jennifer Growcock   \n",
       "\n",
       "                                               item             item_group  \\\n",
       "0                      24 Hours of Tennis Ping Pong  24 Hour Charity Event   \n",
       "1                                  Kick Off Clinic   24 Hour Charity Event   \n",
       "2  Frost Bank- 24 Hours of Tennis Community Sponsor   24 Hour- Sponsorship   \n",
       "3                                          JNCC HAT            Accessories   \n",
       "4                                      Pro Overgrip            Accessories   \n",
       "\n",
       "  status  quantity  subtotal  discount   tax   total    paid  refund  balance  \\\n",
       "0   Paid       2.0      20.0       0.0  0.00   20.00   20.00     0.0      0.0   \n",
       "1   Paid       1.0      25.0       0.0  0.00   25.00   25.00     0.0      0.0   \n",
       "2   Paid       1.0     500.0       0.0  0.00  500.00  500.00     0.0      0.0   \n",
       "3   Paid       1.0      17.0       0.0  1.40   18.40   18.40     0.0      0.0   \n",
       "4   Paid       1.0       8.0       0.0  0.66    8.66    8.66     0.0      0.0   \n",
       "\n",
       "   acn  sys_id  \n",
       "0  NaN    4283  \n",
       "1  NaN    1656  \n",
       "2  NaN    1864  \n",
       "3  NaN    4629  \n",
       "4  NaN    1317  "
      ]
     },
     "execution_count": 95,
     "metadata": {},
     "output_type": "execute_result"
    }
   ],
   "source": [
    "guest.head()"
   ]
  },
  {
   "cell_type": "code",
   "execution_count": null,
   "metadata": {},
   "outputs": [],
   "source": [
    "Index(['Unnamed: 0', 'trans_id', 'timestamp', 'acn', 'item', 'item_group',\n",
    "       'total', 'sys_id'],\n",
    "      dtype='object')"
   ]
  },
  {
   "cell_type": "code",
   "execution_count": 97,
   "metadata": {},
   "outputs": [],
   "source": [
    "df2 = guest[['Unnamed: 0',\"trans_id\",\"timestamp\",\"sys_id\",\"item\",\"item_group\",\"total\",\"acn\"]]\n",
    "df2 = df2.rename(columns={\"sys_id\":\"acn\",\"acn\":\"sys_id\"})\n",
    "df2[\"sys_id\"] = \"Guest\""
   ]
  },
  {
   "cell_type": "code",
   "execution_count": 98,
   "metadata": {},
   "outputs": [
    {
     "data": {
      "text/html": [
       "<div>\n",
       "<style scoped>\n",
       "    .dataframe tbody tr th:only-of-type {\n",
       "        vertical-align: middle;\n",
       "    }\n",
       "\n",
       "    .dataframe tbody tr th {\n",
       "        vertical-align: top;\n",
       "    }\n",
       "\n",
       "    .dataframe thead th {\n",
       "        text-align: right;\n",
       "    }\n",
       "</style>\n",
       "<table border=\"1\" class=\"dataframe\">\n",
       "  <thead>\n",
       "    <tr style=\"text-align: right;\">\n",
       "      <th></th>\n",
       "      <th>Unnamed: 0</th>\n",
       "      <th>trans_id</th>\n",
       "      <th>timestamp</th>\n",
       "      <th>acn</th>\n",
       "      <th>item</th>\n",
       "      <th>item_group</th>\n",
       "      <th>total</th>\n",
       "      <th>sys_id</th>\n",
       "    </tr>\n",
       "  </thead>\n",
       "  <tbody>\n",
       "    <tr>\n",
       "      <th>0</th>\n",
       "      <td>0</td>\n",
       "      <td>201066</td>\n",
       "      <td>2019-03-29 20:42:00</td>\n",
       "      <td>4283</td>\n",
       "      <td>24 Hours of Tennis Ping Pong</td>\n",
       "      <td>24 Hour Charity Event</td>\n",
       "      <td>20.00</td>\n",
       "      <td>Guest</td>\n",
       "    </tr>\n",
       "    <tr>\n",
       "      <th>1</th>\n",
       "      <td>1</td>\n",
       "      <td>152150</td>\n",
       "      <td>2018-04-17 18:26:00</td>\n",
       "      <td>1656</td>\n",
       "      <td>Kick Off Clinic</td>\n",
       "      <td>24 Hour Charity Event</td>\n",
       "      <td>25.00</td>\n",
       "      <td>Guest</td>\n",
       "    </tr>\n",
       "    <tr>\n",
       "      <th>2</th>\n",
       "      <td>2</td>\n",
       "      <td>198364</td>\n",
       "      <td>2019-03-11 10:48:00</td>\n",
       "      <td>1864</td>\n",
       "      <td>Frost Bank- 24 Hours of Tennis Community Sponsor</td>\n",
       "      <td>24 Hour- Sponsorship</td>\n",
       "      <td>500.00</td>\n",
       "      <td>Guest</td>\n",
       "    </tr>\n",
       "    <tr>\n",
       "      <th>3</th>\n",
       "      <td>3</td>\n",
       "      <td>204816</td>\n",
       "      <td>2019-04-22 11:06:00</td>\n",
       "      <td>4629</td>\n",
       "      <td>JNCC HAT</td>\n",
       "      <td>Accessories</td>\n",
       "      <td>18.40</td>\n",
       "      <td>Guest</td>\n",
       "    </tr>\n",
       "    <tr>\n",
       "      <th>4</th>\n",
       "      <td>4</td>\n",
       "      <td>16014</td>\n",
       "      <td>2015-03-11 18:29:00</td>\n",
       "      <td>1317</td>\n",
       "      <td>Pro Overgrip</td>\n",
       "      <td>Accessories</td>\n",
       "      <td>8.66</td>\n",
       "      <td>Guest</td>\n",
       "    </tr>\n",
       "  </tbody>\n",
       "</table>\n",
       "</div>"
      ],
      "text/plain": [
       "   Unnamed: 0  trans_id            timestamp   acn  \\\n",
       "0           0    201066  2019-03-29 20:42:00  4283   \n",
       "1           1    152150  2018-04-17 18:26:00  1656   \n",
       "2           2    198364  2019-03-11 10:48:00  1864   \n",
       "3           3    204816  2019-04-22 11:06:00  4629   \n",
       "4           4     16014  2015-03-11 18:29:00  1317   \n",
       "\n",
       "                                               item             item_group  \\\n",
       "0                      24 Hours of Tennis Ping Pong  24 Hour Charity Event   \n",
       "1                                  Kick Off Clinic   24 Hour Charity Event   \n",
       "2  Frost Bank- 24 Hours of Tennis Community Sponsor   24 Hour- Sponsorship   \n",
       "3                                          JNCC HAT            Accessories   \n",
       "4                                      Pro Overgrip            Accessories   \n",
       "\n",
       "    total sys_id  \n",
       "0   20.00  Guest  \n",
       "1   25.00  Guest  \n",
       "2  500.00  Guest  \n",
       "3   18.40  Guest  \n",
       "4    8.66  Guest  "
      ]
     },
     "execution_count": 98,
     "metadata": {},
     "output_type": "execute_result"
    }
   ],
   "source": [
    "df2.head()"
   ]
  },
  {
   "cell_type": "markdown",
   "metadata": {},
   "source": [
    "**Task: Concat df and df2**  \n",
    "But first, check if ids are unique, if not find out why not."
   ]
  },
  {
   "cell_type": "code",
   "execution_count": 229,
   "metadata": {},
   "outputs": [
    {
     "data": {
      "text/html": [
       "<div>\n",
       "<style scoped>\n",
       "    .dataframe tbody tr th:only-of-type {\n",
       "        vertical-align: middle;\n",
       "    }\n",
       "\n",
       "    .dataframe tbody tr th {\n",
       "        vertical-align: top;\n",
       "    }\n",
       "\n",
       "    .dataframe thead th {\n",
       "        text-align: right;\n",
       "    }\n",
       "</style>\n",
       "<table border=\"1\" class=\"dataframe\">\n",
       "  <thead>\n",
       "    <tr style=\"text-align: right;\">\n",
       "      <th></th>\n",
       "      <th>Unnamed: 0</th>\n",
       "      <th>trans_id</th>\n",
       "      <th>timestamp</th>\n",
       "      <th>name</th>\n",
       "      <th>item</th>\n",
       "      <th>item_group</th>\n",
       "      <th>status</th>\n",
       "      <th>quantity</th>\n",
       "      <th>subtotal</th>\n",
       "      <th>discount</th>\n",
       "      <th>tax</th>\n",
       "      <th>total</th>\n",
       "      <th>paid</th>\n",
       "      <th>refund</th>\n",
       "      <th>balance</th>\n",
       "      <th>acn</th>\n",
       "      <th>sys_id</th>\n",
       "    </tr>\n",
       "  </thead>\n",
       "  <tbody>\n",
       "    <tr>\n",
       "      <th>0</th>\n",
       "      <td>0</td>\n",
       "      <td>7315</td>\n",
       "      <td>2015-01-03 11:00:00</td>\n",
       "      <td>Pia Lomax</td>\n",
       "      <td>Lessons with Joe Snailum (01/03/2015)</td>\n",
       "      <td>Lessons</td>\n",
       "      <td>Paid</td>\n",
       "      <td>1.0</td>\n",
       "      <td>65.00</td>\n",
       "      <td>0.00</td>\n",
       "      <td>0.00</td>\n",
       "      <td>65.00</td>\n",
       "      <td>65.00</td>\n",
       "      <td>0.0</td>\n",
       "      <td>0.0</td>\n",
       "      <td>79</td>\n",
       "      <td>General Single Membership</td>\n",
       "    </tr>\n",
       "    <tr>\n",
       "      <th>1</th>\n",
       "      <td>1</td>\n",
       "      <td>37831</td>\n",
       "      <td>2015-08-12 21:30:00</td>\n",
       "      <td>Jennifer Hernandez</td>\n",
       "      <td>$1 Snacks</td>\n",
       "      <td>Snacks</td>\n",
       "      <td>Paid</td>\n",
       "      <td>1.0</td>\n",
       "      <td>0.92</td>\n",
       "      <td>0.00</td>\n",
       "      <td>0.08</td>\n",
       "      <td>1.00</td>\n",
       "      <td>1.00</td>\n",
       "      <td>0.0</td>\n",
       "      <td>0.0</td>\n",
       "      <td>566</td>\n",
       "      <td>General Family Membership</td>\n",
       "    </tr>\n",
       "    <tr>\n",
       "      <th>2</th>\n",
       "      <td>2</td>\n",
       "      <td>37844</td>\n",
       "      <td>2015-08-13 10:50:00</td>\n",
       "      <td>Douglas Draeger</td>\n",
       "      <td>Java Jolt</td>\n",
       "      <td>Smoothie</td>\n",
       "      <td>Paid</td>\n",
       "      <td>1.0</td>\n",
       "      <td>5.31</td>\n",
       "      <td>0.53</td>\n",
       "      <td>0.39</td>\n",
       "      <td>5.17</td>\n",
       "      <td>5.17</td>\n",
       "      <td>0.0</td>\n",
       "      <td>0.0</td>\n",
       "      <td>1532</td>\n",
       "      <td>General Property Owner</td>\n",
       "    </tr>\n",
       "    <tr>\n",
       "      <th>3</th>\n",
       "      <td>3</td>\n",
       "      <td>37843</td>\n",
       "      <td>2015-08-13 10:50:00</td>\n",
       "      <td>Douglas Draeger</td>\n",
       "      <td>Java Jolt</td>\n",
       "      <td>Smoothie</td>\n",
       "      <td>Paid</td>\n",
       "      <td>1.0</td>\n",
       "      <td>5.31</td>\n",
       "      <td>0.53</td>\n",
       "      <td>0.39</td>\n",
       "      <td>5.17</td>\n",
       "      <td>5.17</td>\n",
       "      <td>0.0</td>\n",
       "      <td>0.0</td>\n",
       "      <td>1532</td>\n",
       "      <td>General Property Owner</td>\n",
       "    </tr>\n",
       "    <tr>\n",
       "      <th>4</th>\n",
       "      <td>4</td>\n",
       "      <td>37842</td>\n",
       "      <td>2015-08-13 10:50:00</td>\n",
       "      <td>Douglas Draeger</td>\n",
       "      <td>Mango Tango</td>\n",
       "      <td>Smoothie</td>\n",
       "      <td>Paid</td>\n",
       "      <td>1.0</td>\n",
       "      <td>4.39</td>\n",
       "      <td>0.44</td>\n",
       "      <td>0.33</td>\n",
       "      <td>4.28</td>\n",
       "      <td>4.28</td>\n",
       "      <td>0.0</td>\n",
       "      <td>0.0</td>\n",
       "      <td>1532</td>\n",
       "      <td>General Property Owner</td>\n",
       "    </tr>\n",
       "  </tbody>\n",
       "</table>\n",
       "</div>"
      ],
      "text/plain": [
       "   Unnamed: 0  trans_id            timestamp                name  \\\n",
       "0           0      7315  2015-01-03 11:00:00           Pia Lomax   \n",
       "1           1     37831  2015-08-12 21:30:00  Jennifer Hernandez   \n",
       "2           2     37844  2015-08-13 10:50:00     Douglas Draeger   \n",
       "3           3     37843  2015-08-13 10:50:00     Douglas Draeger   \n",
       "4           4     37842  2015-08-13 10:50:00     Douglas Draeger   \n",
       "\n",
       "                                    item item_group status  quantity  \\\n",
       "0  Lessons with Joe Snailum (01/03/2015)    Lessons   Paid       1.0   \n",
       "1                              $1 Snacks     Snacks   Paid       1.0   \n",
       "2                              Java Jolt   Smoothie   Paid       1.0   \n",
       "3                              Java Jolt   Smoothie   Paid       1.0   \n",
       "4                            Mango Tango   Smoothie   Paid       1.0   \n",
       "\n",
       "   subtotal  discount   tax  total   paid  refund  balance   acn  \\\n",
       "0     65.00      0.00  0.00  65.00  65.00     0.0      0.0    79   \n",
       "1      0.92      0.00  0.08   1.00   1.00     0.0      0.0   566   \n",
       "2      5.31      0.53  0.39   5.17   5.17     0.0      0.0  1532   \n",
       "3      5.31      0.53  0.39   5.17   5.17     0.0      0.0  1532   \n",
       "4      4.39      0.44  0.33   4.28   4.28     0.0      0.0  1532   \n",
       "\n",
       "                      sys_id  \n",
       "0  General Single Membership  \n",
       "1  General Family Membership  \n",
       "2     General Property Owner  \n",
       "3     General Property Owner  \n",
       "4     General Property Owner  "
      ]
     },
     "execution_count": 229,
     "metadata": {},
     "output_type": "execute_result"
    }
   ],
   "source": [
    "member.head()"
   ]
  },
  {
   "cell_type": "code",
   "execution_count": 230,
   "metadata": {},
   "outputs": [
    {
     "data": {
      "text/plain": [
       "971"
      ]
     },
     "execution_count": 230,
     "metadata": {},
     "output_type": "execute_result"
    }
   ],
   "source": [
    "df[df.id.isin(df2.id)].id.count()"
   ]
  },
  {
   "cell_type": "code",
   "execution_count": 231,
   "metadata": {},
   "outputs": [],
   "source": [
    "dups = df[df.id.isin(df2.id)].id.unique()"
   ]
  },
  {
   "cell_type": "code",
   "execution_count": 232,
   "metadata": {},
   "outputs": [
    {
     "data": {
      "text/plain": [
       "array(['Ashley Lloyd', 'Lee Stacy', 'Rhonda Stacy', 'Diego Garcia',\n",
       "       'Hartley Clark', 'Evyn Clark', 'Abigail Kelly', 'Cole Jecmenek',\n",
       "       'David Smith', 'Khloe Villa', 'Aaron Malakoff', 'Jessica Villa',\n",
       "       'Ryan Villa'], dtype=object)"
      ]
     },
     "execution_count": 232,
     "metadata": {},
     "output_type": "execute_result"
    }
   ],
   "source": [
    "member[member.acn.isin(dups)].name.unique()"
   ]
  },
  {
   "cell_type": "markdown",
   "metadata": {},
   "source": [
    "Check from the cancellation data."
   ]
  },
  {
   "cell_type": "markdown",
   "metadata": {},
   "source": [
    "Duplicated entries who are **confirmed** in the Cancellation data\n",
    "\n",
    "- Aaron Malakoff  \n",
    "- Rhonda, Lee Stacy  \n",
    "- David Smith\n",
    "\n",
    "Duplicated entries who have **similar names** in the Cancellation data\n",
    "- Roberto same as Diego Garcia?  \n",
    "- Wes same as Hartley/Evyn Clark?  \n",
    "- Jarrett same as Cole Jecmenek?\n",
    "\n",
    "Duplicated entries who are **not** in the Cancellation data\n",
    "- Ashley Lloyd  \n",
    "- Abigail Kelly\n",
    "- Jessica Villa"
   ]
  },
  {
   "cell_type": "code",
   "execution_count": 233,
   "metadata": {},
   "outputs": [
    {
     "data": {
      "text/plain": [
       "['Lessons',\n",
       " 'Snacks',\n",
       " 'Smoothie',\n",
       " 'White Wine',\n",
       " 'Drinks',\n",
       " 'Tips',\n",
       " 'Guest Fee',\n",
       " 'Apparel',\n",
       " 'Accessories',\n",
       " 'Tennis Balls',\n",
       " 'Adult Clinics',\n",
       " 'Massage',\n",
       " 'Membership Initiation ',\n",
       " 'Membership Dues',\n",
       " 'Junior Clinics',\n",
       " 'Beer',\n",
       " 'Date Night',\n",
       " 'Racquet Rental',\n",
       " 'Red Wine',\n",
       " 'String',\n",
       " 'Package Liability',\n",
       " 'Restring/ Labor Only',\n",
       " 'Special Event',\n",
       " 'Shoes',\n",
       " 'Facility Rental',\n",
       " 'Dinners',\n",
       " 'Camp',\n",
       " 'Racquets',\n",
       " 'Leagues',\n",
       " 'Personal Training',\n",
       " 'Catie Johnson Home School',\n",
       " 'Fitness Special Event',\n",
       " 'Pro Shop',\n",
       " 'Gift Certificate Liability',\n",
       " 'Social Event',\n",
       " 'Swim Lessons ',\n",
       " 'Credits',\n",
       " 'Swim Camp',\n",
       " 'TRAIN4LIFE',\n",
       " 'Mini Bees Soccer',\n",
       " 'Teen Performance Camp',\n",
       " 'CDM- MISC',\n",
       " 'Soccer- MSOS',\n",
       " 'Special Event-Non Taxable (Includes Instruction)',\n",
       " 'Food Allowance',\n",
       " 'Naturally Cafe',\n",
       " 'Naturally-Salad',\n",
       " 'Naturally Lunch Special',\n",
       " 'Naturally Juices',\n",
       " 'Naturally-Smoothies',\n",
       " 'Naturally- Sandwiches',\n",
       " 'Court Time',\n",
       " 'VIP TENNIS',\n",
       " 'VIP FITNESS',\n",
       " 'Food & Beverage',\n",
       " 'Kid Fit',\n",
       " '24 Hour- Ticket Sales',\n",
       " '24 Hour Charity Event',\n",
       " '24 Hour- Sponsorship',\n",
       " '24 Hour- Dinner/ Lunch Entry',\n",
       " 'Replacement Key Card',\n",
       " 'JNCC 100% RETAIL- NOT CDM',\n",
       " 'Homeowner Membership Initiation',\n",
       " 'Membership Initiation Liability']"
      ]
     },
     "execution_count": 233,
     "metadata": {},
     "output_type": "execute_result"
    }
   ],
   "source": [
    "member.item_group.unique().tolist()"
   ]
  },
  {
   "cell_type": "markdown",
   "metadata": {},
   "source": [
    "### Extinct or exclude\n",
    "- Massage**\n",
    "- CDM-MISC\n",
    "- Soccer-MSOS\n",
    "- Membership Initiation Liability \n",
    "- Replacement Key Card\n",
    "- TRAIN4LIFE - drop\n",
    "- Mini Bees Soccer- drop\n",
    "- Replacement Key Card - drop\n",
    "- Catie Johnson Home School - drop\n",
    "- VIP TENNIS - drop\n",
    "- VIP FITNESS - drop"
   ]
  },
  {
   "cell_type": "markdown",
   "metadata": {},
   "source": [
    "Rename Package Liability to Lessons"
   ]
  },
  {
   "cell_type": "code",
   "execution_count": 99,
   "metadata": {},
   "outputs": [
    {
     "data": {
      "text/html": [
       "<div>\n",
       "<style scoped>\n",
       "    .dataframe tbody tr th:only-of-type {\n",
       "        vertical-align: middle;\n",
       "    }\n",
       "\n",
       "    .dataframe tbody tr th {\n",
       "        vertical-align: top;\n",
       "    }\n",
       "\n",
       "    .dataframe thead th {\n",
       "        text-align: right;\n",
       "    }\n",
       "</style>\n",
       "<table border=\"1\" class=\"dataframe\">\n",
       "  <thead>\n",
       "    <tr style=\"text-align: right;\">\n",
       "      <th></th>\n",
       "      <th>Unnamed: 0</th>\n",
       "      <th>trans_id</th>\n",
       "      <th>timestamp</th>\n",
       "      <th>acn</th>\n",
       "      <th>item</th>\n",
       "      <th>item_group</th>\n",
       "      <th>total</th>\n",
       "      <th>sys_id</th>\n",
       "    </tr>\n",
       "  </thead>\n",
       "  <tbody>\n",
       "    <tr>\n",
       "      <th>0</th>\n",
       "      <td>0</td>\n",
       "      <td>201066</td>\n",
       "      <td>2019-03-29 20:42:00</td>\n",
       "      <td>4283</td>\n",
       "      <td>24 Hours of Tennis Ping Pong</td>\n",
       "      <td>24 Hour Charity Event</td>\n",
       "      <td>20.00</td>\n",
       "      <td>Guest</td>\n",
       "    </tr>\n",
       "    <tr>\n",
       "      <th>1</th>\n",
       "      <td>1</td>\n",
       "      <td>152150</td>\n",
       "      <td>2018-04-17 18:26:00</td>\n",
       "      <td>1656</td>\n",
       "      <td>Kick Off Clinic</td>\n",
       "      <td>24 Hour Charity Event</td>\n",
       "      <td>25.00</td>\n",
       "      <td>Guest</td>\n",
       "    </tr>\n",
       "    <tr>\n",
       "      <th>2</th>\n",
       "      <td>2</td>\n",
       "      <td>198364</td>\n",
       "      <td>2019-03-11 10:48:00</td>\n",
       "      <td>1864</td>\n",
       "      <td>Frost Bank- 24 Hours of Tennis Community Sponsor</td>\n",
       "      <td>24 Hour- Sponsorship</td>\n",
       "      <td>500.00</td>\n",
       "      <td>Guest</td>\n",
       "    </tr>\n",
       "    <tr>\n",
       "      <th>3</th>\n",
       "      <td>3</td>\n",
       "      <td>204816</td>\n",
       "      <td>2019-04-22 11:06:00</td>\n",
       "      <td>4629</td>\n",
       "      <td>JNCC HAT</td>\n",
       "      <td>Accessories</td>\n",
       "      <td>18.40</td>\n",
       "      <td>Guest</td>\n",
       "    </tr>\n",
       "    <tr>\n",
       "      <th>4</th>\n",
       "      <td>4</td>\n",
       "      <td>16014</td>\n",
       "      <td>2015-03-11 18:29:00</td>\n",
       "      <td>1317</td>\n",
       "      <td>Pro Overgrip</td>\n",
       "      <td>Accessories</td>\n",
       "      <td>8.66</td>\n",
       "      <td>Guest</td>\n",
       "    </tr>\n",
       "  </tbody>\n",
       "</table>\n",
       "</div>"
      ],
      "text/plain": [
       "   Unnamed: 0  trans_id            timestamp   acn  \\\n",
       "0           0    201066  2019-03-29 20:42:00  4283   \n",
       "1           1    152150  2018-04-17 18:26:00  1656   \n",
       "2           2    198364  2019-03-11 10:48:00  1864   \n",
       "3           3    204816  2019-04-22 11:06:00  4629   \n",
       "4           4     16014  2015-03-11 18:29:00  1317   \n",
       "\n",
       "                                               item             item_group  \\\n",
       "0                      24 Hours of Tennis Ping Pong  24 Hour Charity Event   \n",
       "1                                  Kick Off Clinic   24 Hour Charity Event   \n",
       "2  Frost Bank- 24 Hours of Tennis Community Sponsor   24 Hour- Sponsorship   \n",
       "3                                          JNCC HAT            Accessories   \n",
       "4                                      Pro Overgrip            Accessories   \n",
       "\n",
       "    total sys_id  \n",
       "0   20.00  Guest  \n",
       "1   25.00  Guest  \n",
       "2  500.00  Guest  \n",
       "3   18.40  Guest  \n",
       "4    8.66  Guest  "
      ]
     },
     "execution_count": 99,
     "metadata": {},
     "output_type": "execute_result"
    }
   ],
   "source": [
    "df2.head()"
   ]
  },
  {
   "cell_type": "code",
   "execution_count": 100,
   "metadata": {},
   "outputs": [],
   "source": [
    "#Function for Exclusions and Package Liability\n",
    "def exclusion_and_pl(member):\n",
    "    #Exclusion\n",
    "    member = member[~member.item_group.isin([\"Massage\",\"CDM- MISC\",\"Soccer-MSOS\",\"Membership Initiation Liability\",\"Replacement Key Card\",\"TRAIN4LIFE\",\"Mini Bees Soccer\",\"Catie Johnson Home School\",\"VIP TENNIS\",\"VIP FITNESS\"])]\n",
    "\n",
    "    #Regroup Package Liability\n",
    "    package_drop = ['Added an additional lesson for Accidental Cancellation Charge- it was reduced from package- MD']\n",
    "    package_fitness = ['PREMIER -1 hour- 4 pack (4 pack)', '1 hour - 4 pack (4 pack)','1 hour - 4 pack (4 pack) (10% discount applied)','REGULAR 1 hour - 4 pack (4 pack)','REGULAR 30 minute - 4 pack (4 pack)','1 Hour Lesson Package (4 pack)','30 Minute Lesson Package (4 pack)','1 Hour Lesson Package (4 pack) (10% discount applied)','Regular Lesson Package* mal (6 pack) (10% discount applied)','September 2017 Membership Promo (6 pack)','6 for 360 Fitness (6 pack)','3 for 99 FITNESS 2019-2020 (3 pack)','December 3- for $99.00 w/ Carly (3 pack)','Private Lesson 5 Pack - 1 on 1 (Kayla Ward)']\n",
    "    package_tennis = ['LESSON 4 Pack - 1 on 1 (Tennis)','Premier 4 Pack - 1 on 1 (Tennis)','LESSON 8 Pack - 1 on 1 (Tennis)','Premier 8 Pack - 1 on 1 (Tennis)','Additional 3 Sessions for LESSON 4 Pack - 1 on 1 (Cal Loveridge)  (8575)','LESSON 4 Pack - 1 on 1 (Cal Loveridge)','LESSON 6 Pack 1 on 1 (Tennis)','December- 3 for $99 w/ Sam Cassidy (3 pack)','Tyler Brown $99.00 (3 pack)', '6 for 360 Tennis (6 pack)','3 FOR 99 TENNIS 2019-2020 (3 pack)','LESSON 3 Pack 1 on 1 (Teg Lozano)','NBCA STUDENT LESSON (3 pack)','Private Lesson 3 Pack 1 on 1 (Tennis) PTU Pro Package']\n",
    "\n",
    "    mask_pl = member.item_group==\"Package Liability\"\n",
    "\n",
    "    mask_package_drop = member.item.isin(package_drop)\n",
    "    mask_package_fitness = member.item.isin(package_fitness)\n",
    "    mask_package_tennis = member.item.isin(package_tennis)\n",
    "\n",
    "    member.item_group = np.where(mask_package_fitness,\"Fitness Lessons\",member.item_group)\n",
    "    member.item_group = np.where(mask_package_tennis,\"Tennis Lessons\",member.item_group)\n",
    "\n",
    "    member.drop((member[member.item.isin(package_drop)].index),inplace=True)\n",
    "    \n",
    "    return member"
   ]
  },
  {
   "cell_type": "code",
   "execution_count": 101,
   "metadata": {},
   "outputs": [
    {
     "data": {
      "text/html": [
       "<div>\n",
       "<style scoped>\n",
       "    .dataframe tbody tr th:only-of-type {\n",
       "        vertical-align: middle;\n",
       "    }\n",
       "\n",
       "    .dataframe tbody tr th {\n",
       "        vertical-align: top;\n",
       "    }\n",
       "\n",
       "    .dataframe thead th {\n",
       "        text-align: right;\n",
       "    }\n",
       "</style>\n",
       "<table border=\"1\" class=\"dataframe\">\n",
       "  <thead>\n",
       "    <tr style=\"text-align: right;\">\n",
       "      <th></th>\n",
       "      <th>Unnamed: 0</th>\n",
       "      <th>trans_id</th>\n",
       "      <th>timestamp</th>\n",
       "      <th>acn</th>\n",
       "      <th>item</th>\n",
       "      <th>item_group</th>\n",
       "      <th>total</th>\n",
       "      <th>sys_id</th>\n",
       "    </tr>\n",
       "  </thead>\n",
       "  <tbody>\n",
       "    <tr>\n",
       "      <th>0</th>\n",
       "      <td>0</td>\n",
       "      <td>201066</td>\n",
       "      <td>2019-03-29 20:42:00</td>\n",
       "      <td>4283</td>\n",
       "      <td>24 Hours of Tennis Ping Pong</td>\n",
       "      <td>24 Hour Charity Event</td>\n",
       "      <td>20.00</td>\n",
       "      <td>Guest</td>\n",
       "    </tr>\n",
       "    <tr>\n",
       "      <th>1</th>\n",
       "      <td>1</td>\n",
       "      <td>152150</td>\n",
       "      <td>2018-04-17 18:26:00</td>\n",
       "      <td>1656</td>\n",
       "      <td>Kick Off Clinic</td>\n",
       "      <td>24 Hour Charity Event</td>\n",
       "      <td>25.00</td>\n",
       "      <td>Guest</td>\n",
       "    </tr>\n",
       "    <tr>\n",
       "      <th>2</th>\n",
       "      <td>2</td>\n",
       "      <td>198364</td>\n",
       "      <td>2019-03-11 10:48:00</td>\n",
       "      <td>1864</td>\n",
       "      <td>Frost Bank- 24 Hours of Tennis Community Sponsor</td>\n",
       "      <td>24 Hour- Sponsorship</td>\n",
       "      <td>500.00</td>\n",
       "      <td>Guest</td>\n",
       "    </tr>\n",
       "    <tr>\n",
       "      <th>3</th>\n",
       "      <td>3</td>\n",
       "      <td>204816</td>\n",
       "      <td>2019-04-22 11:06:00</td>\n",
       "      <td>4629</td>\n",
       "      <td>JNCC HAT</td>\n",
       "      <td>Accessories</td>\n",
       "      <td>18.40</td>\n",
       "      <td>Guest</td>\n",
       "    </tr>\n",
       "    <tr>\n",
       "      <th>4</th>\n",
       "      <td>4</td>\n",
       "      <td>16014</td>\n",
       "      <td>2015-03-11 18:29:00</td>\n",
       "      <td>1317</td>\n",
       "      <td>Pro Overgrip</td>\n",
       "      <td>Accessories</td>\n",
       "      <td>8.66</td>\n",
       "      <td>Guest</td>\n",
       "    </tr>\n",
       "  </tbody>\n",
       "</table>\n",
       "</div>"
      ],
      "text/plain": [
       "   Unnamed: 0  trans_id            timestamp   acn  \\\n",
       "0           0    201066  2019-03-29 20:42:00  4283   \n",
       "1           1    152150  2018-04-17 18:26:00  1656   \n",
       "2           2    198364  2019-03-11 10:48:00  1864   \n",
       "3           3    204816  2019-04-22 11:06:00  4629   \n",
       "4           4     16014  2015-03-11 18:29:00  1317   \n",
       "\n",
       "                                               item             item_group  \\\n",
       "0                      24 Hours of Tennis Ping Pong  24 Hour Charity Event   \n",
       "1                                  Kick Off Clinic   24 Hour Charity Event   \n",
       "2  Frost Bank- 24 Hours of Tennis Community Sponsor   24 Hour- Sponsorship   \n",
       "3                                          JNCC HAT            Accessories   \n",
       "4                                      Pro Overgrip            Accessories   \n",
       "\n",
       "    total sys_id  \n",
       "0   20.00  Guest  \n",
       "1   25.00  Guest  \n",
       "2  500.00  Guest  \n",
       "3   18.40  Guest  \n",
       "4    8.66  Guest  "
      ]
     },
     "execution_count": 101,
     "metadata": {},
     "output_type": "execute_result"
    }
   ],
   "source": [
    "df2 = exclusion_and_pl(df2)\n",
    "df2.head()"
   ]
  },
  {
   "cell_type": "code",
   "execution_count": 102,
   "metadata": {},
   "outputs": [],
   "source": [
    "member = member[~member.item_group.isin([\"Massage\",\"CDM- MISC\",\"Soccer-MSOS\",\"Membership Initiation Liability\",\"Replacement Key Card\",\"TRAIN4LIFE\",\"Mini Bees Soccer\",\"Catie Johnson Home School\",\"VIP TENNIS\",\"VIP FITNESS\"])]"
   ]
  },
  {
   "cell_type": "code",
   "execution_count": 103,
   "metadata": {},
   "outputs": [],
   "source": [
    "#1\n",
    "package_drop = ['Added an additional lesson for Accidental Cancellation Charge- it was reduced from package- MD']\n",
    "#565\n",
    "package_fitness = ['PREMIER -1 hour- 4 pack (4 pack)', '1 hour - 4 pack (4 pack)','1 hour - 4 pack (4 pack) (10% discount applied)','REGULAR 1 hour - 4 pack (4 pack)','REGULAR 30 minute - 4 pack (4 pack)','1 Hour Lesson Package (4 pack)','30 Minute Lesson Package (4 pack)','1 Hour Lesson Package (4 pack) (10% discount applied)','Regular Lesson Package* mal (6 pack) (10% discount applied)','September 2017 Membership Promo (6 pack)','6 for 360 Fitness (6 pack)','3 for 99 FITNESS 2019-2020 (3 pack)','December 3- for $99.00 w/ Carly (3 pack)','Private Lesson 5 Pack - 1 on 1 (Kayla Ward)']\n",
    "#241\n",
    "package_tennis = ['LESSON 4 Pack - 1 on 1 (Tennis)','Premier 4 Pack - 1 on 1 (Tennis)','LESSON 8 Pack - 1 on 1 (Tennis)','Premier 8 Pack - 1 on 1 (Tennis)','Additional 3 Sessions for LESSON 4 Pack - 1 on 1 (Cal Loveridge)  (8575)','LESSON 4 Pack - 1 on 1 (Cal Loveridge)','LESSON 6 Pack 1 on 1 (Tennis)','December- 3 for $99 w/ Sam Cassidy (3 pack)','Tyler Brown $99.00 (3 pack)', '6 for 360 Tennis (6 pack)','3 FOR 99 TENNIS 2019-2020 (3 pack)','LESSON 3 Pack 1 on 1 (Teg Lozano)','NBCA STUDENT LESSON (3 pack)','Private Lesson 3 Pack 1 on 1 (Tennis) PTU Pro Package']"
   ]
  },
  {
   "cell_type": "code",
   "execution_count": 104,
   "metadata": {},
   "outputs": [],
   "source": [
    "mask_pl = member.item_group==\"Package Liability\""
   ]
  },
  {
   "cell_type": "code",
   "execution_count": 105,
   "metadata": {},
   "outputs": [],
   "source": [
    "mask_package_drop = member.item.isin(package_drop)\n",
    "mask_package_fitness = member.item.isin(package_fitness)\n",
    "mask_package_tennis = member.item.isin(package_tennis)"
   ]
  },
  {
   "cell_type": "code",
   "execution_count": 106,
   "metadata": {},
   "outputs": [],
   "source": [
    "member.item_group = np.where(mask_package_fitness,\"Fitness Lessons\",member.item_group)"
   ]
  },
  {
   "cell_type": "code",
   "execution_count": 107,
   "metadata": {},
   "outputs": [
    {
     "data": {
      "text/plain": [
       "array(['24 Hour Charity Event', '24 Hour- Sponsorship', 'Accessories',\n",
       "       'Adult Clinics', 'Apparel', 'Beer', 'Camp', 'Date Night',\n",
       "       'Dinners', 'Drinks', 'Facility Rental', 'Fitness Special Event',\n",
       "       'Food & Beverage', 'Food Allowance', 'Gift Certificate Liability',\n",
       "       'Guest Fee', 'Junior Clinics', 'Kid Fit', 'Leagues', 'Lessons',\n",
       "       'Membership Dues', 'Membership Initiation ', 'Naturally Cafe',\n",
       "       'Naturally Juices', 'Naturally Lunch Special',\n",
       "       'Naturally- Sandwiches', 'Naturally-Salad', 'Naturally-Smoothies',\n",
       "       'Package Liability', 'Tennis Lessons', 'Personal Training',\n",
       "       'Racquet Rental', 'Racquets', 'Red Wine', 'Restring/ Labor Only',\n",
       "       'Shoes', 'Smoothie', 'Snacks', 'Social Event', 'Special Event',\n",
       "       'Sponsorship', 'String', 'Swim Camp', 'Teen Performance Camp',\n",
       "       'Tennis Balls', 'Tips', 'White Wine'], dtype=object)"
      ]
     },
     "execution_count": 107,
     "metadata": {},
     "output_type": "execute_result"
    }
   ],
   "source": [
    "df2.item_group.unique()"
   ]
  },
  {
   "cell_type": "code",
   "execution_count": 108,
   "metadata": {},
   "outputs": [
    {
     "data": {
      "text/html": [
       "<div>\n",
       "<style scoped>\n",
       "    .dataframe tbody tr th:only-of-type {\n",
       "        vertical-align: middle;\n",
       "    }\n",
       "\n",
       "    .dataframe tbody tr th {\n",
       "        vertical-align: top;\n",
       "    }\n",
       "\n",
       "    .dataframe thead th {\n",
       "        text-align: right;\n",
       "    }\n",
       "</style>\n",
       "<table border=\"1\" class=\"dataframe\">\n",
       "  <thead>\n",
       "    <tr style=\"text-align: right;\">\n",
       "      <th></th>\n",
       "      <th>Unnamed: 0</th>\n",
       "      <th>trans_id</th>\n",
       "      <th>timestamp</th>\n",
       "      <th>acn</th>\n",
       "      <th>item</th>\n",
       "      <th>item_group</th>\n",
       "      <th>total</th>\n",
       "      <th>sys_id</th>\n",
       "    </tr>\n",
       "  </thead>\n",
       "  <tbody>\n",
       "    <tr>\n",
       "      <th>4714</th>\n",
       "      <td>4714</td>\n",
       "      <td>222728</td>\n",
       "      <td>2019-08-07 15:44:00</td>\n",
       "      <td>4949</td>\n",
       "      <td>Private Lesson 8 Pack 1 on 1 (Fitness)</td>\n",
       "      <td>Package Liability</td>\n",
       "      <td>520.0</td>\n",
       "      <td>Guest</td>\n",
       "    </tr>\n",
       "    <tr>\n",
       "      <th>4715</th>\n",
       "      <td>4715</td>\n",
       "      <td>48484</td>\n",
       "      <td>2015-11-05 17:31:00</td>\n",
       "      <td>1690</td>\n",
       "      <td>Non Member 30 Minute- 4 Pack (4 pack)</td>\n",
       "      <td>Package Liability</td>\n",
       "      <td>130.0</td>\n",
       "      <td>Guest</td>\n",
       "    </tr>\n",
       "  </tbody>\n",
       "</table>\n",
       "</div>"
      ],
      "text/plain": [
       "      Unnamed: 0  trans_id            timestamp   acn  \\\n",
       "4714        4714    222728  2019-08-07 15:44:00  4949   \n",
       "4715        4715     48484  2015-11-05 17:31:00  1690   \n",
       "\n",
       "                                        item         item_group  total sys_id  \n",
       "4714  Private Lesson 8 Pack 1 on 1 (Fitness)  Package Liability  520.0  Guest  \n",
       "4715   Non Member 30 Minute- 4 Pack (4 pack)  Package Liability  130.0  Guest  "
      ]
     },
     "execution_count": 108,
     "metadata": {},
     "output_type": "execute_result"
    }
   ],
   "source": [
    "df2[df2.item_group == \"Package Liability\"]"
   ]
  },
  {
   "cell_type": "code",
   "execution_count": 109,
   "metadata": {},
   "outputs": [],
   "source": [
    "df2.loc[4715,\"item_group\"] = \"Tennis Lessons\""
   ]
  },
  {
   "cell_type": "code",
   "execution_count": 110,
   "metadata": {},
   "outputs": [],
   "source": [
    "df2.loc[4714,\"item_group\"] = \"Fitness Lessons\""
   ]
  },
  {
   "cell_type": "code",
   "execution_count": 111,
   "metadata": {},
   "outputs": [
    {
     "data": {
      "text/plain": [
       "Unnamed: 0                                      4714\n",
       "trans_id                                      222728\n",
       "timestamp                        2019-08-07 15:44:00\n",
       "acn                                             4949\n",
       "item          Private Lesson 8 Pack 1 on 1 (Fitness)\n",
       "item_group                           Fitness Lessons\n",
       "total                                            520\n",
       "sys_id                                         Guest\n",
       "Name: 4714, dtype: object"
      ]
     },
     "execution_count": 111,
     "metadata": {},
     "output_type": "execute_result"
    }
   ],
   "source": [
    "df2.loc[4714]"
   ]
  },
  {
   "cell_type": "code",
   "execution_count": 112,
   "metadata": {},
   "outputs": [
    {
     "data": {
      "text/plain": [
       "Unnamed: 0                    206\n",
       "trans_id                    37626\n",
       "timestamp     2015-08-10 12:47:00\n",
       "acn                           863\n",
       "item              $2.00 Ice Cream\n",
       "item_group                 Snacks\n",
       "total                           2\n",
       "sys_id           Misc. Membership\n",
       "Name: 200, dtype: object"
      ]
     },
     "execution_count": 112,
     "metadata": {},
     "output_type": "execute_result"
    }
   ],
   "source": [
    "#checking if Tennis Lessons are set as item_group\n",
    "member.iloc[200]"
   ]
  },
  {
   "cell_type": "code",
   "execution_count": 113,
   "metadata": {},
   "outputs": [],
   "source": [
    "member.item_group = np.where(mask_package_tennis,\"Tennis Lessons\",member.item_group)"
   ]
  },
  {
   "cell_type": "code",
   "execution_count": 114,
   "metadata": {},
   "outputs": [],
   "source": [
    "member.drop((member[member.item.isin(package_drop)].index),inplace=True)"
   ]
  },
  {
   "cell_type": "code",
   "execution_count": 115,
   "metadata": {},
   "outputs": [
    {
     "data": {
      "text/plain": [
       "(135822, 8)"
      ]
     },
     "execution_count": 115,
     "metadata": {},
     "output_type": "execute_result"
    }
   ],
   "source": [
    "member.shape"
   ]
  },
  {
   "cell_type": "markdown",
   "metadata": {},
   "source": [
    "---"
   ]
  },
  {
   "cell_type": "code",
   "execution_count": 116,
   "metadata": {},
   "outputs": [
    {
     "data": {
      "text/plain": [
       "['24 Hour Charity Event',\n",
       " '24 Hour- Sponsorship',\n",
       " 'Accessories',\n",
       " 'Adult Clinics',\n",
       " 'Apparel',\n",
       " 'Beer',\n",
       " 'Camp',\n",
       " 'Date Night',\n",
       " 'Dinners',\n",
       " 'Drinks',\n",
       " 'Facility Rental',\n",
       " 'Fitness Lessons',\n",
       " 'Fitness Special Event',\n",
       " 'Food & Beverage',\n",
       " 'Food Allowance',\n",
       " 'Gift Certificate Liability',\n",
       " 'Guest Fee',\n",
       " 'Junior Clinics',\n",
       " 'Kid Fit',\n",
       " 'Leagues',\n",
       " 'Lessons',\n",
       " 'Membership Dues',\n",
       " 'Membership Initiation ',\n",
       " 'Naturally Cafe',\n",
       " 'Naturally Juices',\n",
       " 'Naturally Lunch Special',\n",
       " 'Naturally- Sandwiches',\n",
       " 'Naturally-Salad',\n",
       " 'Naturally-Smoothies',\n",
       " 'Personal Training',\n",
       " 'Racquet Rental',\n",
       " 'Racquets',\n",
       " 'Red Wine',\n",
       " 'Restring/ Labor Only',\n",
       " 'Shoes',\n",
       " 'Smoothie',\n",
       " 'Snacks',\n",
       " 'Social Event',\n",
       " 'Special Event',\n",
       " 'Sponsorship',\n",
       " 'String',\n",
       " 'Swim Camp',\n",
       " 'Teen Performance Camp',\n",
       " 'Tennis Balls',\n",
       " 'Tennis Lessons',\n",
       " 'Tips',\n",
       " 'White Wine']"
      ]
     },
     "execution_count": 116,
     "metadata": {},
     "output_type": "execute_result"
    }
   ],
   "source": [
    "sorted(list(df2.item_group.unique()))"
   ]
  },
  {
   "cell_type": "code",
   "execution_count": 117,
   "metadata": {},
   "outputs": [],
   "source": [
    "df2 = df2[df2.item_group != \"Gift Certificate Liability\"]"
   ]
  },
  {
   "cell_type": "code",
   "execution_count": 118,
   "metadata": {},
   "outputs": [
    {
     "data": {
      "text/html": [
       "<div>\n",
       "<style scoped>\n",
       "    .dataframe tbody tr th:only-of-type {\n",
       "        vertical-align: middle;\n",
       "    }\n",
       "\n",
       "    .dataframe tbody tr th {\n",
       "        vertical-align: top;\n",
       "    }\n",
       "\n",
       "    .dataframe thead th {\n",
       "        text-align: right;\n",
       "    }\n",
       "</style>\n",
       "<table border=\"1\" class=\"dataframe\">\n",
       "  <thead>\n",
       "    <tr style=\"text-align: right;\">\n",
       "      <th></th>\n",
       "      <th>Unnamed: 0</th>\n",
       "      <th>trans_id</th>\n",
       "      <th>timestamp</th>\n",
       "      <th>acn</th>\n",
       "      <th>item</th>\n",
       "      <th>item_group</th>\n",
       "      <th>total</th>\n",
       "      <th>sys_id</th>\n",
       "    </tr>\n",
       "  </thead>\n",
       "  <tbody>\n",
       "    <tr>\n",
       "      <th>2043</th>\n",
       "      <td>2043</td>\n",
       "      <td>162754</td>\n",
       "      <td>2018-06-30 00:00:00</td>\n",
       "      <td>1652</td>\n",
       "      <td>Monthly Food and Beverage Allowance July 2018</td>\n",
       "      <td>Food &amp; Beverage</td>\n",
       "      <td>21.65</td>\n",
       "      <td>Guest</td>\n",
       "    </tr>\n",
       "    <tr>\n",
       "      <th>2044</th>\n",
       "      <td>2044</td>\n",
       "      <td>168644</td>\n",
       "      <td>2018-07-31 00:00:00</td>\n",
       "      <td>1652</td>\n",
       "      <td>Monthly Food and Beverage Allowance August 2018</td>\n",
       "      <td>Food &amp; Beverage</td>\n",
       "      <td>21.65</td>\n",
       "      <td>Guest</td>\n",
       "    </tr>\n",
       "    <tr>\n",
       "      <th>2045</th>\n",
       "      <td>2045</td>\n",
       "      <td>220540</td>\n",
       "      <td>2019-07-27 14:12:00</td>\n",
       "      <td>4838</td>\n",
       "      <td>50 Drink Tickets for Event!</td>\n",
       "      <td>Food &amp; Beverage</td>\n",
       "      <td>324.75</td>\n",
       "      <td>Guest</td>\n",
       "    </tr>\n",
       "  </tbody>\n",
       "</table>\n",
       "</div>"
      ],
      "text/plain": [
       "      Unnamed: 0  trans_id            timestamp   acn  \\\n",
       "2043        2043    162754  2018-06-30 00:00:00  1652   \n",
       "2044        2044    168644  2018-07-31 00:00:00  1652   \n",
       "2045        2045    220540  2019-07-27 14:12:00  4838   \n",
       "\n",
       "                                                 item       item_group  \\\n",
       "2043    Monthly Food and Beverage Allowance July 2018  Food & Beverage   \n",
       "2044  Monthly Food and Beverage Allowance August 2018  Food & Beverage   \n",
       "2045                      50 Drink Tickets for Event!  Food & Beverage   \n",
       "\n",
       "       total sys_id  \n",
       "2043   21.65  Guest  \n",
       "2044   21.65  Guest  \n",
       "2045  324.75  Guest  "
      ]
     },
     "execution_count": 118,
     "metadata": {},
     "output_type": "execute_result"
    }
   ],
   "source": [
    "df2[df2.item_group==\"Food & Beverage\"]"
   ]
  },
  {
   "cell_type": "code",
   "execution_count": 119,
   "metadata": {},
   "outputs": [],
   "source": [
    "df2.loc[2043,\"item_group\"] = \"Food Allowance\"\n",
    "df2.loc[2044,\"item_group\"] = \"Food Allowance\"\n",
    "df2.loc[2045,\"item_group\"] = \"Beverage\""
   ]
  },
  {
   "cell_type": "code",
   "execution_count": 120,
   "metadata": {},
   "outputs": [
    {
     "data": {
      "text/plain": [
       "Unnamed: 0                           2045\n",
       "trans_id                           220540\n",
       "timestamp             2019-07-27 14:12:00\n",
       "acn                                  4838\n",
       "item          50 Drink Tickets for Event!\n",
       "item_group                       Beverage\n",
       "total                              324.75\n",
       "sys_id                              Guest\n",
       "Name: 2045, dtype: object"
      ]
     },
     "execution_count": 120,
     "metadata": {},
     "output_type": "execute_result"
    }
   ],
   "source": [
    "df2.loc[2045]"
   ]
  },
  {
   "cell_type": "code",
   "execution_count": 121,
   "metadata": {},
   "outputs": [
    {
     "data": {
      "text/plain": [
       "['Slice of Quiche',\n",
       " 'Soup Small',\n",
       " 'NUUN Tablets',\n",
       " 'Chips ONLY',\n",
       " 'Cookie',\n",
       " '1/2 Soup 1/2 Quiche',\n",
       " 'Honey Stingers - Protein Bars 1.5 oz $2.50',\n",
       " 'Muffin',\n",
       " 'Hot Chocolate',\n",
       " 'Large Soup',\n",
       " 'Grab and Go Box',\n",
       " 'Honey Stingers - Organic Gels 1.1 oz $1.50',\n",
       " 'Honey Stingers - Organic Waffle 1.0 oz $1.39',\n",
       " 'Icelandic Yogurt',\n",
       " 'Juice box',\n",
       " '1/2 Soup 1/2 Sandwich',\n",
       " 'Honey Stingers - Organic Energy Chews 1.8 oz $2.39',\n",
       " 'Kombucha']"
      ]
     },
     "execution_count": 121,
     "metadata": {},
     "output_type": "execute_result"
    }
   ],
   "source": [
    "list(df2[df2.item_group ==\"Naturally Cafe\"].item.unique())"
   ]
  },
  {
   "cell_type": "code",
   "execution_count": 122,
   "metadata": {},
   "outputs": [],
   "source": [
    "nc_food = ['Slice of Quiche','Soup Small','NUUN Tablets','Chips ONLY','Cookie','1/2 Soup 1/2 Quiche','Honey Stingers - Protein Bars 1.5 oz $2.50','Muffin','Large Soup','Grab and Go Box','Honey Stingers - Organic Gels 1.1 oz $1.50','Honey Stingers - Organic Waffle 1.0 oz $1.39','1/2 Soup 1/2 Sandwich','Honey Stingers - Organic Energy Chews 1.8 oz $2.39','Kombucha']\n",
    "nc_beverage = ['Hot Chocolate','Icelandic Yogurt','Juice box','Kombucha']"
   ]
  },
  {
   "cell_type": "code",
   "execution_count": 123,
   "metadata": {},
   "outputs": [],
   "source": [
    "df2.item_group = np.where(df2.item.isin(nc_food),\"Food & Consumables\",df2.item_group)\n",
    "df2.item_group = np.where(df2.item.isin(nc_beverage),\"Beverage\",df2.item_group)"
   ]
  },
  {
   "cell_type": "code",
   "execution_count": 124,
   "metadata": {},
   "outputs": [],
   "source": [
    "df2.item_group = np.where(df2.item_group.isin([\"Naturally-Salad\",\"Naturally Lunch Special\",\"Naturally- Sandwiches\"]), \"Food & Consumables\", df2.item_group)\n",
    "df2.item_group = np.where(df2.item_group.isin([\"Naturally Juices\",\"Naturally-Smoothies\",\"Smoothie\"]), \"Beverage\", df2.item_group)"
   ]
  },
  {
   "cell_type": "code",
   "execution_count": 125,
   "metadata": {},
   "outputs": [],
   "source": [
    "df2 = df2[df2.item_group != \"Tips\"]"
   ]
  },
  {
   "cell_type": "code",
   "execution_count": 126,
   "metadata": {},
   "outputs": [],
   "source": [
    "df2.item_group = np.where(df2.item_group == \"Drinks\",\"Beverage\",df2.item_group)"
   ]
  },
  {
   "cell_type": "code",
   "execution_count": 127,
   "metadata": {},
   "outputs": [],
   "source": [
    "df2.item_group = np.where(df2.item_group.isin([\"Red Wine\",\"White Wine\"]),\"Wine\",df2.item_group)"
   ]
  },
  {
   "cell_type": "code",
   "execution_count": 128,
   "metadata": {},
   "outputs": [],
   "source": [
    "df2.item_group = np.where(df2.item_group.isin(['24 Hour Charity Event','24 Hour- Sponsorship']),\"24 Hour of Tennis\",df2.item_group)"
   ]
  },
  {
   "cell_type": "code",
   "execution_count": 129,
   "metadata": {},
   "outputs": [
    {
     "data": {
      "text/plain": [
       "(6124, 8)"
      ]
     },
     "execution_count": 129,
     "metadata": {},
     "output_type": "execute_result"
    }
   ],
   "source": [
    "df2.shape"
   ]
  },
  {
   "cell_type": "code",
   "execution_count": 130,
   "metadata": {},
   "outputs": [],
   "source": [
    "df2.to_csv(\"df_guest.csv\")"
   ]
  },
  {
   "cell_type": "markdown",
   "metadata": {},
   "source": [
    "---"
   ]
  },
  {
   "cell_type": "code",
   "execution_count": 243,
   "metadata": {},
   "outputs": [],
   "source": [
    "member = member[member.item_group != \"Gift Certificate Liability\"]"
   ]
  },
  {
   "cell_type": "code",
   "execution_count": 244,
   "metadata": {},
   "outputs": [],
   "source": [
    "nc_food = ['Chips ONLY','Chips ONLY(Stacey)','Slice of Quiche','Muffin','Grab and Go Box','Parfait cup 16 oz','Carrot Cake','Grab and Go Box (Vicki)','Cookie','Fruit cup 16 oz','Chips ONLY (Danika)','Boiled Egg (Emillie)','Banana','Chips ONLY(Mark)','Apple','1/2 Soup 1/2 Sandwich','Soup Small','Salad dressing','1/2 Soup 1/2 Quiche','Soup Small (Krista)','Cookie (Lendon)','Cookie (Alison)','Muffin ( Sandy)','Slice of Quiche (Dixie)','Large Soup','Whole Quiche','Chips ONLY (Sandy)','Muffin (Audra)','Chips ONLY (Ava)','Muffin (Ava)','Cookie (October Purchase)','Naturally Soup','Chicken Salad','Hard Boiled Egg','Chicken Add ons','Side of Chicken Salad','Kombucha','Honey Stingers - Protein Bars 1.5 oz $2.50','Meat & Cheese Box','Small Tea','Honey Stingers - Organic Gels 1.1 oz $1.50','Honey Stingers - Organic Gels 1.1 oz $1.50 (Amy)','Honey Stingers - Organic Energy Chews 1.8 oz $2.39','Icelandic Yogurt','Meat & Cheese Box (raegan)','Muffin (Sandy)','1/2 Soup 1/2 Salad','8 oz House Dressing','house dressing','Green Sauce','Honey Stingers - Protein Bars 1.5 oz $2.50 (2 or 4 Boxes)','Honey Stingers - Protein Bars 1.5 oz $2.50 (2 or 4 boxes)','Honey Stingers - Organic Waffle 1.0 oz $1.39','Soup Small- Krista Hall','Honey Stingers - Organic Waffle 1.0 oz $1.39 ( Jennifer)','1/2 Soup 1/2 Sandwich (Krista)','Meat & Cheese Box (Kathryn)','Custom Meat and Cheese Platter','Honey Stingers - Protein Bars 1.5 oz $2.50 (Dixie)','Muffin (Ginger)','Chips ONLY (Lisa)','Kombucha (Tasha)','Muffin (Stephanie)','Slice of Quiche (Stephanie)','Muffin (Ginny)','Chips ONLY (Henry)','Muffin (Kendra)','1/2 Soup 1/2 Quiche (Kendra)','Muffin (Holly)','Honey Stingers - GLUTEN FREE Organic Waffles 1.0','NUUN Tablets','1/2 Soup 1/2 Sandwich (Holly)','Muffin ( Holly)','Whole Quiche (Ginny)','Single Hard-Boiled Egg','Slice of Quiche (Tasha)','Muffin (Caroline)','Chips ONLY (Jacqueline)','Muffin (renata)','Cinnamon Roll Large','cinnamon roll','Cinnamon rolls','Muffin (Rhonda)']\n",
    "nc_beverage = ['Juice box','Hot Chocolate','Large Tea','Hot Chocolate (Sandy)','Juice box ( Rachel)']"
   ]
  },
  {
   "cell_type": "code",
   "execution_count": 245,
   "metadata": {},
   "outputs": [],
   "source": [
    "nc_wildcard = ['Double Charged for Chicken and Bacon on 02/12/19- Issued Credit on 03/02 Backdated','Estates POA: Naturally Catering','Naturally Catered Event Pam Powell Party on April 10th','Party Platter for party on 10/17/2018']"
   ]
  },
  {
   "cell_type": "code",
   "execution_count": 246,
   "metadata": {},
   "outputs": [],
   "source": [
    "member.item_group = np.where(member.item.isin(nc_food),\"Food & Consumables\",member.item_group)\n",
    "member.item_group = np.where(member.item.isin(nc_beverage),\"Beverage\",member.item_group)"
   ]
  },
  {
   "cell_type": "code",
   "execution_count": 247,
   "metadata": {},
   "outputs": [],
   "source": [
    "member = member[~member.item.isin(nc_wildcard)]"
   ]
  },
  {
   "cell_type": "code",
   "execution_count": 248,
   "metadata": {
    "scrolled": false
   },
   "outputs": [],
   "source": [
    "member = member[member.item_group != \"JNCC 100% RETAIL- NOT CDM\"]"
   ]
  },
  {
   "cell_type": "code",
   "execution_count": 249,
   "metadata": {},
   "outputs": [],
   "source": [
    "member.item_group = np.where(member.item_group ==\"Special Event-Non Taxable (Includes Instruction)\",\"Special Event\",member.item_group)"
   ]
  },
  {
   "cell_type": "code",
   "execution_count": 250,
   "metadata": {},
   "outputs": [],
   "source": [
    "member = member[member.item_group != \"Pro Shop\"]"
   ]
  },
  {
   "cell_type": "code",
   "execution_count": 251,
   "metadata": {},
   "outputs": [
    {
     "name": "stdout",
     "output_type": "stream",
     "text": [
      "<class 'pandas.core.frame.DataFrame'>\n",
      "Int64Index: 136982 entries, 0 to 137331\n",
      "Data columns (total 17 columns):\n",
      "Unnamed: 0    136982 non-null int64\n",
      "trans_id      136982 non-null int64\n",
      "timestamp     136982 non-null object\n",
      "name          136982 non-null object\n",
      "item          136982 non-null object\n",
      "item_group    136982 non-null object\n",
      "status        136982 non-null object\n",
      "quantity      136982 non-null float64\n",
      "subtotal      136982 non-null float64\n",
      "discount      136982 non-null float64\n",
      "tax           136982 non-null float64\n",
      "total         136982 non-null float64\n",
      "paid          136982 non-null float64\n",
      "refund        136982 non-null float64\n",
      "balance       136982 non-null float64\n",
      "acn           136982 non-null int64\n",
      "sys_id        136982 non-null object\n",
      "dtypes: float64(8), int64(3), object(6)\n",
      "memory usage: 18.8+ MB\n"
     ]
    }
   ],
   "source": [
    "member.info()"
   ]
  },
  {
   "cell_type": "code",
   "execution_count": 252,
   "metadata": {},
   "outputs": [
    {
     "data": {
      "text/plain": [
       "['24 Hour Charity Event',\n",
       " '24 Hour- Dinner/ Lunch Entry',\n",
       " '24 Hour- Sponsorship',\n",
       " '24 Hour- Ticket Sales',\n",
       " 'Accessories',\n",
       " 'Adult Clinics',\n",
       " 'Apparel',\n",
       " 'Beer',\n",
       " 'Beverage',\n",
       " 'Camp',\n",
       " 'Court Time',\n",
       " 'Credits',\n",
       " 'Date Night',\n",
       " 'Dinners',\n",
       " 'Drinks',\n",
       " 'Facility Rental',\n",
       " 'Fitness Lessons',\n",
       " 'Fitness Special Event',\n",
       " 'Food & Beverage',\n",
       " 'Food & Consumables',\n",
       " 'Food Allowance',\n",
       " 'Guest Fee',\n",
       " 'Homeowner Membership Initiation',\n",
       " 'Junior Clinics',\n",
       " 'Kid Fit',\n",
       " 'Leagues',\n",
       " 'Lessons',\n",
       " 'Membership Dues',\n",
       " 'Membership Initiation ',\n",
       " 'Naturally Juices',\n",
       " 'Naturally Lunch Special',\n",
       " 'Naturally- Sandwiches',\n",
       " 'Naturally-Salad',\n",
       " 'Naturally-Smoothies',\n",
       " 'Personal Training',\n",
       " 'Racquet Rental',\n",
       " 'Racquets',\n",
       " 'Red Wine',\n",
       " 'Restring/ Labor Only',\n",
       " 'Shoes',\n",
       " 'Smoothie',\n",
       " 'Snacks',\n",
       " 'Soccer- MSOS',\n",
       " 'Social Event',\n",
       " 'Special Event',\n",
       " 'String',\n",
       " 'Swim Camp',\n",
       " 'Swim Lessons ',\n",
       " 'Teen Performance Camp',\n",
       " 'Tennis Balls',\n",
       " 'Tennis Lessons',\n",
       " 'Tips',\n",
       " 'White Wine']"
      ]
     },
     "execution_count": 252,
     "metadata": {},
     "output_type": "execute_result"
    }
   ],
   "source": [
    "sorted(member.item_group.unique())"
   ]
  },
  {
   "cell_type": "code",
   "execution_count": 253,
   "metadata": {},
   "outputs": [],
   "source": [
    "member.item_group = np.where(member.item_group.isin([\"Naturally-Salad\",\"Naturally Lunch Special\",\"Naturally- Sandwiches\"]), \"Food & Consumables\", member.item_group)\n",
    "member.item_group = np.where(member.item_group.isin([\"Naturally Juices\",\"Naturally-Smoothies\",\"Smoothie\"]), \"Beverage\", member.item_group)"
   ]
  },
  {
   "cell_type": "code",
   "execution_count": 254,
   "metadata": {},
   "outputs": [
    {
     "data": {
      "text/plain": [
       "['6 bottles of Autin Hope 25$ per bottle',\n",
       " 'Monthly Food and Beverage Allowance August 2018',\n",
       " 'Monthly Food and Beverage Allowance July 2018',\n",
       " 'Monthly Food and Beverage Allowance June 2018',\n",
       " 'Austin Hope Red Wine',\n",
       " 'Estates POA Party Wine Tasting Bottles']"
      ]
     },
     "execution_count": 254,
     "metadata": {},
     "output_type": "execute_result"
    }
   ],
   "source": [
    "list(member[member.item_group == \"Food & Beverage\"].item.unique())"
   ]
  },
  {
   "cell_type": "code",
   "execution_count": 255,
   "metadata": {},
   "outputs": [],
   "source": [
    "member.item_group = np.where(member.item.isin(['Monthly Food and Beverage Allowance August 2018','Monthly Food and Beverage Allowance July 2018','Monthly Food and Beverage Allowance June 2018']), \"Food Allowance\", member.item_group)\n",
    "member.item_group = np.where(member.item.isin(['Austin Hope Red Wine','Estates POA Party Wine Tasting Bottles','6 bottles of Autin Hope 25$ per bottle']), \"Wine\", member.item_group)\n",
    "member.item_group = np.where(member.item_group.isin([\"Red Wine\",\"White Wine\"]),\"Wine\",member.item_group)"
   ]
  },
  {
   "cell_type": "code",
   "execution_count": 256,
   "metadata": {},
   "outputs": [],
   "source": [
    "member.item_group = np.where(member.item_group==\"Drinks\",\"Beverage\",member.item_group)"
   ]
  },
  {
   "cell_type": "code",
   "execution_count": 257,
   "metadata": {},
   "outputs": [],
   "source": [
    "member = member[member.item_group != \"Tips\"]"
   ]
  },
  {
   "cell_type": "code",
   "execution_count": 258,
   "metadata": {},
   "outputs": [],
   "source": [
    "member.item_group = np.where(member.item_group.isin(['24 Hour Charity Event','24 Hour- Dinner/ Lunch Entry','24 Hour- Sponsorship','24 Hour- Ticket Sales']),\"24 Hour of Tennis\",member.item_group)"
   ]
  },
  {
   "cell_type": "code",
   "execution_count": 259,
   "metadata": {},
   "outputs": [
    {
     "data": {
      "text/html": [
       "<div>\n",
       "<style scoped>\n",
       "    .dataframe tbody tr th:only-of-type {\n",
       "        vertical-align: middle;\n",
       "    }\n",
       "\n",
       "    .dataframe tbody tr th {\n",
       "        vertical-align: top;\n",
       "    }\n",
       "\n",
       "    .dataframe thead th {\n",
       "        text-align: right;\n",
       "    }\n",
       "</style>\n",
       "<table border=\"1\" class=\"dataframe\">\n",
       "  <thead>\n",
       "    <tr style=\"text-align: right;\">\n",
       "      <th></th>\n",
       "      <th>Unnamed: 0</th>\n",
       "      <th>trans_id</th>\n",
       "      <th>timestamp</th>\n",
       "      <th>name</th>\n",
       "      <th>item</th>\n",
       "      <th>item_group</th>\n",
       "      <th>status</th>\n",
       "      <th>quantity</th>\n",
       "      <th>subtotal</th>\n",
       "      <th>discount</th>\n",
       "      <th>tax</th>\n",
       "      <th>total</th>\n",
       "      <th>paid</th>\n",
       "      <th>refund</th>\n",
       "      <th>balance</th>\n",
       "      <th>acn</th>\n",
       "      <th>sys_id</th>\n",
       "    </tr>\n",
       "  </thead>\n",
       "  <tbody>\n",
       "    <tr>\n",
       "      <th>0</th>\n",
       "      <td>0</td>\n",
       "      <td>7315</td>\n",
       "      <td>2015-01-03 11:00:00</td>\n",
       "      <td>Pia Lomax</td>\n",
       "      <td>Lessons with Joe Snailum (01/03/2015)</td>\n",
       "      <td>Lessons</td>\n",
       "      <td>Paid</td>\n",
       "      <td>1.0</td>\n",
       "      <td>65.00</td>\n",
       "      <td>0.00</td>\n",
       "      <td>0.00</td>\n",
       "      <td>65.00</td>\n",
       "      <td>65.00</td>\n",
       "      <td>0.0</td>\n",
       "      <td>0.0</td>\n",
       "      <td>79</td>\n",
       "      <td>General Single Membership</td>\n",
       "    </tr>\n",
       "    <tr>\n",
       "      <th>1</th>\n",
       "      <td>1</td>\n",
       "      <td>37831</td>\n",
       "      <td>2015-08-12 21:30:00</td>\n",
       "      <td>Jennifer Hernandez</td>\n",
       "      <td>$1 Snacks</td>\n",
       "      <td>Snacks</td>\n",
       "      <td>Paid</td>\n",
       "      <td>1.0</td>\n",
       "      <td>0.92</td>\n",
       "      <td>0.00</td>\n",
       "      <td>0.08</td>\n",
       "      <td>1.00</td>\n",
       "      <td>1.00</td>\n",
       "      <td>0.0</td>\n",
       "      <td>0.0</td>\n",
       "      <td>566</td>\n",
       "      <td>General Family Membership</td>\n",
       "    </tr>\n",
       "    <tr>\n",
       "      <th>2</th>\n",
       "      <td>2</td>\n",
       "      <td>37844</td>\n",
       "      <td>2015-08-13 10:50:00</td>\n",
       "      <td>Douglas Draeger</td>\n",
       "      <td>Java Jolt</td>\n",
       "      <td>Beverage</td>\n",
       "      <td>Paid</td>\n",
       "      <td>1.0</td>\n",
       "      <td>5.31</td>\n",
       "      <td>0.53</td>\n",
       "      <td>0.39</td>\n",
       "      <td>5.17</td>\n",
       "      <td>5.17</td>\n",
       "      <td>0.0</td>\n",
       "      <td>0.0</td>\n",
       "      <td>1532</td>\n",
       "      <td>General Property Owner</td>\n",
       "    </tr>\n",
       "    <tr>\n",
       "      <th>3</th>\n",
       "      <td>3</td>\n",
       "      <td>37843</td>\n",
       "      <td>2015-08-13 10:50:00</td>\n",
       "      <td>Douglas Draeger</td>\n",
       "      <td>Java Jolt</td>\n",
       "      <td>Beverage</td>\n",
       "      <td>Paid</td>\n",
       "      <td>1.0</td>\n",
       "      <td>5.31</td>\n",
       "      <td>0.53</td>\n",
       "      <td>0.39</td>\n",
       "      <td>5.17</td>\n",
       "      <td>5.17</td>\n",
       "      <td>0.0</td>\n",
       "      <td>0.0</td>\n",
       "      <td>1532</td>\n",
       "      <td>General Property Owner</td>\n",
       "    </tr>\n",
       "    <tr>\n",
       "      <th>4</th>\n",
       "      <td>4</td>\n",
       "      <td>37842</td>\n",
       "      <td>2015-08-13 10:50:00</td>\n",
       "      <td>Douglas Draeger</td>\n",
       "      <td>Mango Tango</td>\n",
       "      <td>Beverage</td>\n",
       "      <td>Paid</td>\n",
       "      <td>1.0</td>\n",
       "      <td>4.39</td>\n",
       "      <td>0.44</td>\n",
       "      <td>0.33</td>\n",
       "      <td>4.28</td>\n",
       "      <td>4.28</td>\n",
       "      <td>0.0</td>\n",
       "      <td>0.0</td>\n",
       "      <td>1532</td>\n",
       "      <td>General Property Owner</td>\n",
       "    </tr>\n",
       "  </tbody>\n",
       "</table>\n",
       "</div>"
      ],
      "text/plain": [
       "   Unnamed: 0  trans_id            timestamp                name  \\\n",
       "0           0      7315  2015-01-03 11:00:00           Pia Lomax   \n",
       "1           1     37831  2015-08-12 21:30:00  Jennifer Hernandez   \n",
       "2           2     37844  2015-08-13 10:50:00     Douglas Draeger   \n",
       "3           3     37843  2015-08-13 10:50:00     Douglas Draeger   \n",
       "4           4     37842  2015-08-13 10:50:00     Douglas Draeger   \n",
       "\n",
       "                                    item item_group status  quantity  \\\n",
       "0  Lessons with Joe Snailum (01/03/2015)    Lessons   Paid       1.0   \n",
       "1                              $1 Snacks     Snacks   Paid       1.0   \n",
       "2                              Java Jolt   Beverage   Paid       1.0   \n",
       "3                              Java Jolt   Beverage   Paid       1.0   \n",
       "4                            Mango Tango   Beverage   Paid       1.0   \n",
       "\n",
       "   subtotal  discount   tax  total   paid  refund  balance   acn  \\\n",
       "0     65.00      0.00  0.00  65.00  65.00     0.0      0.0    79   \n",
       "1      0.92      0.00  0.08   1.00   1.00     0.0      0.0   566   \n",
       "2      5.31      0.53  0.39   5.17   5.17     0.0      0.0  1532   \n",
       "3      5.31      0.53  0.39   5.17   5.17     0.0      0.0  1532   \n",
       "4      4.39      0.44  0.33   4.28   4.28     0.0      0.0  1532   \n",
       "\n",
       "                      sys_id  \n",
       "0  General Single Membership  \n",
       "1  General Family Membership  \n",
       "2     General Property Owner  \n",
       "3     General Property Owner  \n",
       "4     General Property Owner  "
      ]
     },
     "execution_count": 259,
     "metadata": {},
     "output_type": "execute_result"
    }
   ],
   "source": [
    "member.head()"
   ]
  },
  {
   "cell_type": "code",
   "execution_count": 260,
   "metadata": {},
   "outputs": [],
   "source": [
    "df = member[[\"trans_id\",\"timestamp\",\"acn\",\"item\",\"item_group\",\"total\",\"sys_id\"]]"
   ]
  },
  {
   "cell_type": "code",
   "execution_count": 261,
   "metadata": {},
   "outputs": [],
   "source": [
    "df.to_csv(\"df_member.csv\")"
   ]
  },
  {
   "cell_type": "code",
   "execution_count": 262,
   "metadata": {},
   "outputs": [
    {
     "data": {
      "text/plain": [
       "array(['24 Hour Charity Event', '24 Hour- Sponsorship', 'Accessories',\n",
       "       'Adult Clinics', 'Apparel', 'Beer', 'Camp',\n",
       "       'Catie Johnson Home School', 'CDM- MISC', 'Date Night', 'Dinners',\n",
       "       'Drinks', 'Facility Rental', 'Fitness Special Event',\n",
       "       'Food & Beverage', 'Food Allowance', 'Gift Certificate Liability',\n",
       "       'Guest Fee', 'Junior Clinics', 'Kid Fit', 'Leagues', 'Lessons',\n",
       "       'Massage', 'Membership Dues', 'Membership Initiation ',\n",
       "       'Naturally Cafe', 'Naturally Juices', 'Naturally Lunch Special',\n",
       "       'Naturally- Sandwiches', 'Naturally-Salad', 'Naturally-Smoothies',\n",
       "       'Package Liability', 'Personal Training', 'Racquet Rental',\n",
       "       'Racquets', 'Red Wine', 'Restring/ Labor Only', 'Shoes',\n",
       "       'Smoothie', 'Snacks', 'Social Event', 'Special Event',\n",
       "       'Sponsorship', 'String', 'Swim Camp', 'Teen Performance Camp',\n",
       "       'Tennis Balls', 'Tips', 'White Wine'], dtype=object)"
      ]
     },
     "execution_count": 262,
     "metadata": {},
     "output_type": "execute_result"
    }
   ],
   "source": [
    "guest.item_group.unique()"
   ]
  },
  {
   "cell_type": "markdown",
   "metadata": {},
   "source": [
    "---\n",
    "# Concat Member and Guest"
   ]
  },
  {
   "cell_type": "code",
   "execution_count": 165,
   "metadata": {},
   "outputs": [],
   "source": [
    "member = pd.read_csv(\"df_member.csv\")\n",
    "guest = pd.read_csv(\"df_guest.csv\")"
   ]
  },
  {
   "cell_type": "code",
   "execution_count": 166,
   "metadata": {},
   "outputs": [
    {
     "name": "stdout",
     "output_type": "stream",
     "text": [
      "(135822, 8)\n",
      "(6124, 9)\n"
     ]
    }
   ],
   "source": [
    "print(member.shape)\n",
    "print(guest.shape)"
   ]
  },
  {
   "cell_type": "code",
   "execution_count": 167,
   "metadata": {},
   "outputs": [],
   "source": [
    "member = member[['trans_id', 'timestamp', 'acn', 'item', 'item_group','total', 'sys_id']]\n",
    "guest = guest[['trans_id', 'timestamp', 'acn', 'item','item_group', 'total', 'sys_id']]"
   ]
  },
  {
   "cell_type": "code",
   "execution_count": 168,
   "metadata": {},
   "outputs": [
    {
     "name": "stdout",
     "output_type": "stream",
     "text": [
      "<class 'pandas.core.frame.DataFrame'>\n",
      "RangeIndex: 135822 entries, 0 to 135821\n",
      "Data columns (total 7 columns):\n",
      "trans_id      135822 non-null int64\n",
      "timestamp     135822 non-null object\n",
      "acn           135822 non-null int64\n",
      "item          135822 non-null object\n",
      "item_group    135822 non-null object\n",
      "total         135822 non-null float64\n",
      "sys_id        135822 non-null object\n",
      "dtypes: float64(1), int64(2), object(4)\n",
      "memory usage: 7.3+ MB\n"
     ]
    }
   ],
   "source": [
    "member.info()"
   ]
  },
  {
   "cell_type": "code",
   "execution_count": 169,
   "metadata": {},
   "outputs": [
    {
     "name": "stdout",
     "output_type": "stream",
     "text": [
      "<class 'pandas.core.frame.DataFrame'>\n",
      "RangeIndex: 6124 entries, 0 to 6123\n",
      "Data columns (total 7 columns):\n",
      "trans_id      6124 non-null int64\n",
      "timestamp     6124 non-null object\n",
      "acn           6124 non-null int64\n",
      "item          6124 non-null object\n",
      "item_group    6124 non-null object\n",
      "total         6124 non-null float64\n",
      "sys_id        6124 non-null object\n",
      "dtypes: float64(1), int64(2), object(4)\n",
      "memory usage: 335.0+ KB\n"
     ]
    }
   ],
   "source": [
    "guest.info()"
   ]
  },
  {
   "cell_type": "code",
   "execution_count": 170,
   "metadata": {},
   "outputs": [],
   "source": [
    "df = pd.concat([member,guest],ignore_index=True)"
   ]
  },
  {
   "cell_type": "code",
   "execution_count": 171,
   "metadata": {},
   "outputs": [
    {
     "data": {
      "text/plain": [
       "dtype('O')"
      ]
     },
     "execution_count": 171,
     "metadata": {},
     "output_type": "execute_result"
    }
   ],
   "source": [
    "df.item.dtype"
   ]
  },
  {
   "cell_type": "code",
   "execution_count": 172,
   "metadata": {},
   "outputs": [],
   "source": [
    "for col in df:\n",
    "    if df[col].dtype == \"object\":\n",
    "        df[col].str.strip()"
   ]
  },
  {
   "cell_type": "code",
   "execution_count": 173,
   "metadata": {},
   "outputs": [
    {
     "data": {
      "text/html": [
       "<div>\n",
       "<style scoped>\n",
       "    .dataframe tbody tr th:only-of-type {\n",
       "        vertical-align: middle;\n",
       "    }\n",
       "\n",
       "    .dataframe tbody tr th {\n",
       "        vertical-align: top;\n",
       "    }\n",
       "\n",
       "    .dataframe thead th {\n",
       "        text-align: right;\n",
       "    }\n",
       "</style>\n",
       "<table border=\"1\" class=\"dataframe\">\n",
       "  <thead>\n",
       "    <tr style=\"text-align: right;\">\n",
       "      <th></th>\n",
       "      <th>trans_id</th>\n",
       "      <th>timestamp</th>\n",
       "      <th>acn</th>\n",
       "      <th>item</th>\n",
       "      <th>item_group</th>\n",
       "      <th>total</th>\n",
       "      <th>sys_id</th>\n",
       "    </tr>\n",
       "  </thead>\n",
       "  <tbody>\n",
       "    <tr>\n",
       "      <th>0</th>\n",
       "      <td>7315</td>\n",
       "      <td>2015-01-03 11:00:00</td>\n",
       "      <td>79</td>\n",
       "      <td>Lessons with Joe Snailum (01/03/2015)</td>\n",
       "      <td>Lessons</td>\n",
       "      <td>65.00</td>\n",
       "      <td>General Single Membership</td>\n",
       "    </tr>\n",
       "    <tr>\n",
       "      <th>1</th>\n",
       "      <td>37831</td>\n",
       "      <td>2015-08-12 21:30:00</td>\n",
       "      <td>566</td>\n",
       "      <td>$1 Snacks</td>\n",
       "      <td>Snacks</td>\n",
       "      <td>1.00</td>\n",
       "      <td>General Family Membership</td>\n",
       "    </tr>\n",
       "    <tr>\n",
       "      <th>2</th>\n",
       "      <td>37844</td>\n",
       "      <td>2015-08-13 10:50:00</td>\n",
       "      <td>1532</td>\n",
       "      <td>Java Jolt</td>\n",
       "      <td>Beverage</td>\n",
       "      <td>5.17</td>\n",
       "      <td>General Property Owner</td>\n",
       "    </tr>\n",
       "    <tr>\n",
       "      <th>3</th>\n",
       "      <td>37843</td>\n",
       "      <td>2015-08-13 10:50:00</td>\n",
       "      <td>1532</td>\n",
       "      <td>Java Jolt</td>\n",
       "      <td>Beverage</td>\n",
       "      <td>5.17</td>\n",
       "      <td>General Property Owner</td>\n",
       "    </tr>\n",
       "    <tr>\n",
       "      <th>4</th>\n",
       "      <td>37842</td>\n",
       "      <td>2015-08-13 10:50:00</td>\n",
       "      <td>1532</td>\n",
       "      <td>Mango Tango</td>\n",
       "      <td>Beverage</td>\n",
       "      <td>4.28</td>\n",
       "      <td>General Property Owner</td>\n",
       "    </tr>\n",
       "  </tbody>\n",
       "</table>\n",
       "</div>"
      ],
      "text/plain": [
       "   trans_id            timestamp   acn                                   item  \\\n",
       "0      7315  2015-01-03 11:00:00    79  Lessons with Joe Snailum (01/03/2015)   \n",
       "1     37831  2015-08-12 21:30:00   566                              $1 Snacks   \n",
       "2     37844  2015-08-13 10:50:00  1532                              Java Jolt   \n",
       "3     37843  2015-08-13 10:50:00  1532                              Java Jolt   \n",
       "4     37842  2015-08-13 10:50:00  1532                            Mango Tango   \n",
       "\n",
       "  item_group  total                     sys_id  \n",
       "0    Lessons  65.00  General Single Membership  \n",
       "1     Snacks   1.00  General Family Membership  \n",
       "2   Beverage   5.17     General Property Owner  \n",
       "3   Beverage   5.17     General Property Owner  \n",
       "4   Beverage   4.28     General Property Owner  "
      ]
     },
     "execution_count": 173,
     "metadata": {},
     "output_type": "execute_result"
    }
   ],
   "source": [
    "df.head()"
   ]
  },
  {
   "cell_type": "code",
   "execution_count": 182,
   "metadata": {},
   "outputs": [
    {
     "data": {
      "text/plain": [
       "['24 Hour of Tennis',\n",
       " 'Accessories',\n",
       " 'Adult Clinics',\n",
       " 'Apparel',\n",
       " 'Beer',\n",
       " 'Beverage',\n",
       " 'Camp',\n",
       " 'Court Time',\n",
       " 'Date Night',\n",
       " 'Dinners',\n",
       " 'Facility Rental',\n",
       " 'Fitness Lessons',\n",
       " 'Fitness Special Event',\n",
       " 'Food & Consumables',\n",
       " 'Food Allowance',\n",
       " 'Guest Fee',\n",
       " 'Homeowner Membership Initiation',\n",
       " 'Junior Clinics',\n",
       " 'Kid Fit',\n",
       " 'Leagues',\n",
       " 'Lessons',\n",
       " 'Membership Dues',\n",
       " 'Membership Initiation ',\n",
       " 'Personal Training',\n",
       " 'Racquet Rental',\n",
       " 'Racquets',\n",
       " 'Restring/ Labor Only',\n",
       " 'Shoes',\n",
       " 'Snacks',\n",
       " 'Social Event',\n",
       " 'Special Event',\n",
       " 'Sponsorship',\n",
       " 'String',\n",
       " 'Swim Camp',\n",
       " 'Swim Lessons ',\n",
       " 'Teen Performance Camp',\n",
       " 'Tennis Balls',\n",
       " 'Tennis Lessons',\n",
       " 'Wine']"
      ]
     },
     "execution_count": 182,
     "metadata": {},
     "output_type": "execute_result"
    }
   ],
   "source": [
    "sorted(list(df.item_group.unique()))"
   ]
  },
  {
   "cell_type": "code",
   "execution_count": 175,
   "metadata": {},
   "outputs": [],
   "source": [
    "#Soccer -MSOS\n",
    "#Credits"
   ]
  },
  {
   "cell_type": "code",
   "execution_count": 179,
   "metadata": {},
   "outputs": [],
   "source": [
    "df = df[df.item_group!='Soccer- MSOS']\n",
    "df = df[df.item_group!= \"Credits\"]"
   ]
  },
  {
   "cell_type": "code",
   "execution_count": 183,
   "metadata": {},
   "outputs": [],
   "source": [
    "df.to_csv(\"all_data.csv\")"
   ]
  },
  {
   "cell_type": "code",
   "execution_count": null,
   "metadata": {},
   "outputs": [],
   "source": []
  }
 ],
 "metadata": {
  "kernelspec": {
   "display_name": "Python 3",
   "language": "python",
   "name": "python3"
  },
  "language_info": {
   "codemirror_mode": {
    "name": "ipython",
    "version": 3
   },
   "file_extension": ".py",
   "mimetype": "text/x-python",
   "name": "python",
   "nbconvert_exporter": "python",
   "pygments_lexer": "ipython3",
   "version": "3.7.3"
  }
 },
 "nbformat": 4,
 "nbformat_minor": 2
}
